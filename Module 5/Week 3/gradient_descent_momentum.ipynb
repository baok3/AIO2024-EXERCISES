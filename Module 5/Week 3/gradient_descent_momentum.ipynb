{
 "cells": [
  {
   "cell_type": "code",
   "execution_count": 6,
   "metadata": {},
   "outputs": [],
   "source": [
    "import numpy as np"
   ]
  },
  {
   "cell_type": "code",
   "execution_count": 7,
   "metadata": {},
   "outputs": [],
   "source": [
    "def df_w(W):\n",
    "    w1, w2 = W\n",
    "    dw1 = 0.2*w1\n",
    "    dw2 = 4*w2\n",
    "    dW = np.array([dw1, dw2])\n",
    "    return dW"
   ]
  },
  {
   "cell_type": "code",
   "execution_count": 8,
   "metadata": {},
   "outputs": [],
   "source": [
    "def sgd_momentum(W, dW, lr, V, beta):\n",
    "    V = beta * V + (1 - beta) * dW\n",
    "    W = W - lr * V \n",
    "    return W,V"
   ]
  },
  {
   "cell_type": "code",
   "execution_count": 9,
   "metadata": {},
   "outputs": [],
   "source": [
    "def train_p1(optimizer, lr, epochs):\n",
    "    W = np.array([-5, -2], dtype=np.float32)\n",
    "    V = np.array([0, 0], dtype=np.float32)\n",
    "    results = [W]\n",
    "    for e in range(epochs):\n",
    "        dW = df_w(W)\n",
    "        W, V = optimizer(W, dW, lr, V, beta = 0.5)\n",
    "        results.append(W)\n",
    "    return results"
   ]
  },
  {
   "cell_type": "code",
   "execution_count": 10,
   "metadata": {},
   "outputs": [
    {
     "name": "stdout",
     "output_type": "stream",
     "text": [
      "Epoch 0: w1 = -5.0, w2 = -2.0\n",
      "Epoch 1: w1 = -4.7, w2 = 0.3999999999999999\n",
      "Epoch 2: w1 = -4.268, w2 = 1.12\n",
      "Epoch 3: w1 = -3.7959199999999997, w2 = 0.13600000000000012\n",
      "Epoch 4: w1 = -3.3321248, w2 = -0.5192\n",
      "Epoch 5: w1 = -2.900299712, w2 = -0.22376000000000013\n",
      "Epoch 6: w1 = -2.5103691852799996, w2 = 0.19247199999999992\n",
      "Epoch 7: w1 = -2.1647817708031996, w2 = 0.16962160000000004\n",
      "Epoch 8: w1 = -1.8621011573166075, w2 = -0.04534951999999995\n",
      "Epoch 9: w1 = -1.599034781134315, w2 = -0.09841565599999999\n",
      "Epoch 10: w1 = -1.3715595061751098, w2 = -0.0068499368000000255\n",
      "Epoch 11: w1 = -1.1755282983250006, w2 = 0.04715284695999999\n",
      "Epoch 12: w1 = -1.006980996500446, w2 = 0.01757082248800001\n",
      "Epoch 13: w1 = -0.8622884857981419, w2 = -0.018305176733599993\n",
      "Epoch 14: w1 = -0.7382049212991013, w2 = -0.01427696426408\n",
      "Epoch 15: w1 = -0.6318708437716349, w2 = 0.004869499087575998\n",
      "Epoch 16: w1 = -0.5407915543816036, w2 = 0.0085993318583128\n",
      "Epoch 17: w1 = -0.4628044164236918, w2 = 0.00014505001370584102\n",
      "Epoch 18: w1 = -0.39604258245931434, w2 = -0.004256150925044647\n",
      "Epoch 19: w1 = -0.3388991105295668, w2 = -0.0013493702843663147\n",
      "Epoch 20: w1 = -0.289993427932919, w2 = 0.0017232643772124292\n",
      "Epoch 21: w1 = -0.24814098095861994, w2 = 0.0011916644553468863\n",
      "Epoch 22: w1 = -0.21232629861395325, w2 = -0.0005041328520021488\n",
      "Epoch 23: w1 = -0.1816793795247827, w2 = -0.0007470720832740878\n",
      "Epoch 24: w1 = -0.15545515720871045, w2 = 2.7944801018848055e-05\n",
      "Epoch 25: w1 = -0.1330157366181517, w2 = 0.00038191948194269836\n",
      "Epoch 26: w1 = -0.11381508212578322, w2 = 0.00010060344407338548\n",
      "Epoch 27: w1 = -0.09738584995205199, w2 = -0.00016077870774933352\n",
      "Epoch 28: w1 = -0.08332808286806326, w2 = -9.853533436149282e-05\n",
      "Epoch 29: w1 = -0.0712995143539851, w2 = 5.08287535662189e-05\n",
      "Epoch 30: w1 = -0.061007259235706914, w2 = 6.451629325061208e-05\n"
     ]
    }
   ],
   "source": [
    "results = train_p1(sgd_momentum, lr=0.6, epochs=30)\n",
    "\n",
    "for epoch, W in enumerate(results):\n",
    "    print(f\"Epoch {epoch}: w1 = {W[0]}, w2 = {W[1]}\")"
   ]
  }
 ],
 "metadata": {
  "kernelspec": {
   "display_name": "ruludit",
   "language": "python",
   "name": "python3"
  },
  "language_info": {
   "codemirror_mode": {
    "name": "ipython",
    "version": 3
   },
   "file_extension": ".py",
   "mimetype": "text/x-python",
   "name": "python",
   "nbconvert_exporter": "python",
   "pygments_lexer": "ipython3",
   "version": "3.9.20"
  }
 },
 "nbformat": 4,
 "nbformat_minor": 2
}
