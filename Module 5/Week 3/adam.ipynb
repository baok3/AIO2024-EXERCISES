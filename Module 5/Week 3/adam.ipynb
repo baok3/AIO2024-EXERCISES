{
 "cells": [
  {
   "cell_type": "code",
   "execution_count": 200,
   "metadata": {},
   "outputs": [],
   "source": [
    "import numpy as np"
   ]
  },
  {
   "cell_type": "code",
   "execution_count": 201,
   "metadata": {},
   "outputs": [],
   "source": [
    "def df_w(W):\n",
    "    w1, w2 = W\n",
    "    dw1 = 0.2*w1\n",
    "    dw2 = 4*w2\n",
    "    dW = np.array([dw1, dw2])\n",
    "    return dW"
   ]
  },
  {
   "cell_type": "code",
   "execution_count": 202,
   "metadata": {},
   "outputs": [],
   "source": [
    "def Adam(W, dW, lr, V, S,t, beta1 = 0.9, beta2 = 0.999):\n",
    "    epsilon = 1e-6\n",
    "    V = beta1 * V + (1 - beta1) * dW \n",
    "    S = beta2 * S + (1 - beta2) * dW**2\n",
    "    V_corr = V / (1 - beta1 ** t)\n",
    "    S_corr = S / (1 - beta2 ** t)\n",
    "    W = W -  lr * V_corr / (np.sqrt(S_corr + epsilon)) \n",
    "    return W, V, S"
   ]
  },
  {
   "cell_type": "code",
   "execution_count": 203,
   "metadata": {},
   "outputs": [],
   "source": [
    "def train_p1(optimizer, lr, epochs):\n",
    "    W = np.array([-5, -2], dtype=np.float32)\n",
    "    S = np.array([0, 0], dtype=np.float32)\n",
    "    V = np.array([0, 0], dtype=np.float32)\n",
    "    results = [W]\n",
    "    for t in range(1, epochs + 1):\n",
    "        dW = df_w(W)\n",
    "        W, V, S = optimizer(W, dW, lr, V, S, t = t)\n",
    "        results.append(W)\n",
    "    return results"
   ]
  },
  {
   "cell_type": "code",
   "execution_count": 204,
   "metadata": {},
   "outputs": [
    {
     "name": "stdout",
     "output_type": "stream",
     "text": [
      "Epoch 0: w1 = -5.0, w2 = -2.0\n",
      "Epoch 1: w1 = -4.800000099999925, w2 = -1.8000000015625\n",
      "Epoch 2: w1 = -4.600254579753242, w2 = -1.6008244586154556\n",
      "Epoch 3: w1 = -4.4009481778830075, w2 = -1.4031725479102513\n",
      "Epoch 4: w1 = -4.202277239791187, w2 = -1.2078781240766285\n",
      "Epoch 5: w1 = -4.004449834124437, w2 = -1.0159273224966394\n",
      "Epoch 6: w1 = -3.807685790147781, w2 = -0.8284729171181066\n",
      "Epoch 7: w1 = -3.6122166406893794, w2 = -0.6468414162815694\n",
      "Epoch 8: w1 = -3.418285453636195, w2 = -0.4725274567996256\n",
      "Epoch 9: w1 = -3.2261465334065207, w2 = -0.30716912928892093\n",
      "Epoch 10: w1 = -3.036064972525886, w2 = -0.1524983217256048\n",
      "Epoch 11: w1 = -2.848316032540811, w2 = -0.010263015663876746\n",
      "Epoch 12: w1 = -2.663184333199556, w2 = 0.11787576843619324\n",
      "Epoch 13: w1 = -2.480962829311456, w2 = 0.2304618566969149\n",
      "Epoch 14: w1 = -2.3019515561801573, w2 = 0.32635893630407475\n",
      "Epoch 15: w1 = -2.126456127202749, w2 = 0.4048421648815806\n",
      "Epoch 16: w1 = -1.954785971326496, w2 = 0.4656498071325332\n",
      "Epoch 17: w1 = -1.787252303701271, w2 = 0.5089881622504479\n",
      "Epoch 18: w1 = -1.6241658301264346, w2 = 0.5354945539358691\n",
      "Epoch 19: w1 = -1.465834194726901, w2 = 0.5461715345245898\n",
      "Epoch 20: w1 = -1.3125591905296112, w2 = 0.5423081844084688\n",
      "Epoch 21: w1 = -1.164633763916077, w2 = 0.5254020781771738\n",
      "Epoch 22: w1 = -1.0223388557990214, w2 = 0.49709057898038395\n",
      "Epoch 23: w1 = -0.8859401341525484, w2 = 0.459095046665875\n",
      "Epoch 24: w1 = -0.7556846834288757, w2 = 0.4131777157027725\n",
      "Epoch 25: w1 = -0.6317977255606378, w2 = 0.3611087761921596\n",
      "Epoch 26: w1 = -0.5144794538200105, w2 = 0.30464032423068543\n",
      "Epoch 27: w1 = -0.4039020640240486, w2 = 0.24548390479739093\n",
      "Epoch 28: w1 = -0.3002070668705707, w2 = 0.1852889758109291\n",
      "Epoch 29: w1 = -0.20350296026847958, w2 = 0.1256205205248707\n",
      "Epoch 30: w1 = -0.11386333143554773, w2 = 0.06793506275838868\n"
     ]
    }
   ],
   "source": [
    "results = train_p1(Adam, lr=0.2, epochs=30)\n",
    "\n",
    "for epoch, W in enumerate(results):\n",
    "    print(f\"Epoch {epoch}: w1 = {W[0]}, w2 = {W[1]}\")"
   ]
  }
 ],
 "metadata": {
  "kernelspec": {
   "display_name": "ruludit",
   "language": "python",
   "name": "python3"
  },
  "language_info": {
   "codemirror_mode": {
    "name": "ipython",
    "version": 3
   },
   "file_extension": ".py",
   "mimetype": "text/x-python",
   "name": "python",
   "nbconvert_exporter": "python",
   "pygments_lexer": "ipython3",
   "version": "3.9.20"
  }
 },
 "nbformat": 4,
 "nbformat_minor": 2
}
