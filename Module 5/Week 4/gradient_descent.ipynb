{
 "cells": [
  {
   "cell_type": "code",
   "execution_count": 1,
   "metadata": {},
   "outputs": [],
   "source": [
    "import numpy as np"
   ]
  },
  {
   "cell_type": "code",
   "execution_count": 2,
   "metadata": {},
   "outputs": [],
   "source": [
    "def df_w(W):\n",
    "    w1, w2 = W\n",
    "    dw1 = 0.2*w1\n",
    "    dw2 = 4*w2\n",
    "    dW = np.array([dw1, dw2])\n",
    "    return dW"
   ]
  },
  {
   "cell_type": "code",
   "execution_count": 3,
   "metadata": {},
   "outputs": [],
   "source": [
    "def sgd(W, dW, lr):\n",
    "    W = W -lr*dW\n",
    "    return W"
   ]
  },
  {
   "cell_type": "code",
   "execution_count": 4,
   "metadata": {},
   "outputs": [],
   "source": [
    "def train_p1(optimizer, lr, epochs):\n",
    "    W = np.array([-5, -2], dtype=np.float32)\n",
    "    results = [W]\n",
    "    for e in range(epochs):\n",
    "        dW = df_w(W)\n",
    "        W = optimizer(W, dW, lr)\n",
    "        results.append(W)\n",
    "    return results"
   ]
  },
  {
   "cell_type": "code",
   "execution_count": 5,
   "metadata": {},
   "outputs": [
    {
     "name": "stdout",
     "output_type": "stream",
     "text": [
      "Epoch 0: w1 = -5.0000, w2 = -2.0000\n",
      "Epoch 1: w1 = -4.6000, w2 = 1.2000\n",
      "Epoch 2: w1 = -4.2320, w2 = -0.7200\n",
      "Epoch 3: w1 = -3.8934, w2 = 0.4320\n",
      "Epoch 4: w1 = -3.5820, w2 = -0.2592\n",
      "Epoch 5: w1 = -3.2954, w2 = 0.1555\n",
      "Epoch 6: w1 = -3.0318, w2 = -0.0933\n",
      "Epoch 7: w1 = -2.7892, w2 = 0.0560\n",
      "Epoch 8: w1 = -2.5661, w2 = -0.0336\n",
      "Epoch 9: w1 = -2.3608, w2 = 0.0202\n",
      "Epoch 10: w1 = -2.1719, w2 = -0.0121\n",
      "Epoch 11: w1 = -1.9982, w2 = 0.0073\n",
      "Epoch 12: w1 = -1.8383, w2 = -0.0044\n",
      "Epoch 13: w1 = -1.6913, w2 = 0.0026\n",
      "Epoch 14: w1 = -1.5560, w2 = -0.0016\n",
      "Epoch 15: w1 = -1.4315, w2 = 0.0009\n",
      "Epoch 16: w1 = -1.3170, w2 = -0.0006\n",
      "Epoch 17: w1 = -1.2116, w2 = 0.0003\n",
      "Epoch 18: w1 = -1.1147, w2 = -0.0002\n",
      "Epoch 19: w1 = -1.0255, w2 = 0.0001\n",
      "Epoch 20: w1 = -0.9435, w2 = -0.0001\n",
      "Epoch 21: w1 = -0.8680, w2 = 0.0000\n",
      "Epoch 22: w1 = -0.7986, w2 = -0.0000\n",
      "Epoch 23: w1 = -0.7347, w2 = 0.0000\n",
      "Epoch 24: w1 = -0.6759, w2 = -0.0000\n",
      "Epoch 25: w1 = -0.6218, w2 = 0.0000\n",
      "Epoch 26: w1 = -0.5721, w2 = -0.0000\n",
      "Epoch 27: w1 = -0.5263, w2 = 0.0000\n",
      "Epoch 28: w1 = -0.4842, w2 = -0.0000\n",
      "Epoch 29: w1 = -0.4455, w2 = 0.0000\n",
      "Epoch 30: w1 = -0.4098, w2 = -0.0000\n"
     ]
    }
   ],
   "source": [
    "results = train_p1(sgd, lr=0.4, epochs=30)\n",
    "\n",
    "for epoch, W in enumerate(results):\n",
    "    print(f\"Epoch {epoch}: w1 = {W[0]:.4f}, w2 = {W[1]:.4f}\")"
   ]
  }
 ],
 "metadata": {
  "kernelspec": {
   "display_name": "ruludit",
   "language": "python",
   "name": "python3"
  },
  "language_info": {
   "codemirror_mode": {
    "name": "ipython",
    "version": 3
   },
   "file_extension": ".py",
   "mimetype": "text/x-python",
   "name": "python",
   "nbconvert_exporter": "python",
   "pygments_lexer": "ipython3",
   "version": "3.9.20"
  }
 },
 "nbformat": 4,
 "nbformat_minor": 2
}
