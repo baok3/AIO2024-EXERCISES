{
 "cells": [
  {
   "cell_type": "code",
   "execution_count": 1,
   "metadata": {},
   "outputs": [],
   "source": [
    "import numpy as np"
   ]
  },
  {
   "cell_type": "code",
   "execution_count": 2,
   "metadata": {},
   "outputs": [],
   "source": [
    "def df_w(W):\n",
    "    w1, w2 = W\n",
    "    dw1 = 0.2*w1\n",
    "    dw2 = 4*w2\n",
    "    dW = np.array([dw1, dw2])\n",
    "    return dW"
   ]
  },
  {
   "cell_type": "code",
   "execution_count": 3,
   "metadata": {},
   "outputs": [],
   "source": [
    "def RMSProp(W, dW, lr, S, gamma):\n",
    "    epsilon = 1e-6\n",
    "    S = gamma * S + (1 - gamma) * dW ** 2\n",
    "    adapt_lr = lr / np.sqrt(S + epsilon)\n",
    "    W = W - adapt_lr * dW \n",
    "    return W,S"
   ]
  },
  {
   "cell_type": "code",
   "execution_count": 4,
   "metadata": {},
   "outputs": [],
   "source": [
    "def train_p1(optimizer, lr, epochs):\n",
    "    W = np.array([-5, -2], dtype=np.float32)\n",
    "    S = np.array([0, 0], dtype=np.float32)\n",
    "    results = [W]\n",
    "    for e in range(epochs):\n",
    "        dW = df_w(W)\n",
    "        W, S = optimizer(W, dW, lr, S, gamma = 0.9)\n",
    "        results.append(W)\n",
    "    return results"
   ]
  },
  {
   "cell_type": "code",
   "execution_count": 5,
   "metadata": {},
   "outputs": [
    {
     "name": "stdout",
     "output_type": "stream",
     "text": [
      "Epoch 0: w1 = -5.0, w2 = -2.0\n",
      "Epoch 1: w1 = -4.051321445330401, w2 = -1.0513167760653601\n",
      "Epoch 2: w1 = -3.435197540710313, w2 = -0.59152342591607\n",
      "Epoch 3: w1 = -2.9589369293489796, w2 = -0.32943940499816177\n",
      "Epoch 4: w1 = -2.5654628900149308, w2 = -0.1775648185723558\n",
      "Epoch 5: w1 = -2.22920552377513, w2 = -0.09163256127358084\n",
      "Epoch 6: w1 = -1.9362675156207105, w2 = -0.044944986580951356\n",
      "Epoch 7: w1 = -1.6781768574274967, w2 = -0.020814229601575286\n",
      "Epoch 8: w1 = -1.4493498477990567, w2 = -0.009035585595074875\n",
      "Epoch 9: w1 = -1.245881993508816, w2 = -0.003645905472988451\n",
      "Epoch 10: w1 = -1.0649030085077547, w2 = -0.0013535098945501255\n",
      "Epoch 11: w1 = -0.9042022597717997, w2 = -0.00045644443087383875\n",
      "Epoch 12: w1 = -0.7619964948529878, w2 = -0.0001375629281105624\n",
      "Epoch 13: w1 = -0.6367784991349715, w2 = -3.62601019486888e-05\n",
      "Epoch 14: w1 = -0.5272152373016314, w2 = -8.113374556116922e-06\n",
      "Epoch 15: w1 = -0.4320785049217716, w2 = -1.47473411837664e-06\n",
      "Epoch 16: w1 = -0.3501985066951055, w2 = -2.0278399084030024e-07\n",
      "Epoch 17: w1 = -0.2804346489488741, w2 = -1.842311869185962e-08\n",
      "Epoch 18: w1 = -0.22165983448068366, w2 = -7.677427476337743e-10\n",
      "Epoch 19: w1 = -0.1727555124949996, w2 = 7.804519979765185e-12\n",
      "Epoch 20: w1 = -0.1326151335054371, w2 = -5.057948000728944e-13\n",
      "Epoch 21: w1 = -0.1001537791926479, w2 = 6.191235006401474e-14\n",
      "Epoch 22: w1 = -0.07432177081518393, w2 = -1.1337378100969915e-14\n",
      "Epoch 23: w1 = -0.0541201278463423, w2 = 2.801667022532451e-15\n",
      "Epoch 24: w1 = -0.03861591574158471, w2 = -8.813411907873668e-16\n",
      "Epoch 25: w1 = -0.02695580661604302, w2 = 3.3992111677872574e-16\n",
      "Epoch 26: w1 = -0.018376563327480284, w2 = -1.565817306327013e-16\n",
      "Epoch 27: w1 = -0.012211609286904186, w2 = 8.449949845599074e-17\n",
      "Epoch 28: w1 = -0.007893317940141477, w2 = -5.2637659507219454e-17\n",
      "Epoch 29: w1 = -0.004951102607005797, w2 = 3.741079952361897e-17\n",
      "Epoch 30: w1 = -0.003005770808471415, w2 = -3.0050608426117974e-17\n"
     ]
    }
   ],
   "source": [
    "results = train_p1(RMSProp, lr=0.3, epochs=30)\n",
    "\n",
    "for epoch, W in enumerate(results):\n",
    "    print(f\"Epoch {epoch}: w1 = {W[0]}, w2 = {W[1]}\")"
   ]
  }
 ],
 "metadata": {
  "kernelspec": {
   "display_name": "ruludit",
   "language": "python",
   "name": "python3"
  },
  "language_info": {
   "codemirror_mode": {
    "name": "ipython",
    "version": 3
   },
   "file_extension": ".py",
   "mimetype": "text/x-python",
   "name": "python",
   "nbconvert_exporter": "python",
   "pygments_lexer": "ipython3",
   "version": "3.9.20"
  }
 },
 "nbformat": 4,
 "nbformat_minor": 2
}
