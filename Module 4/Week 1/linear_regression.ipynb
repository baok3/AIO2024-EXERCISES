{
 "cells": [
  {
   "cell_type": "code",
   "execution_count": 162,
   "metadata": {},
   "outputs": [
    {
     "name": "stdout",
     "output_type": "stream",
     "text": [
      "[624.1, 175.1, 300.5, 78.9]\n"
     ]
    }
   ],
   "source": [
    "import numpy as np \n",
    "import matplotlib.pyplot as plt\n",
    "import random\n",
    "\n",
    "def get_column(data, index):\n",
    "    result = [row[index] for row in data]\n",
    "    return result\n",
    "\n",
    "def prepare_data(filename):\n",
    "    data = np.genfromtxt(filename, delimiter=',', skip_header=1).tolist()\n",
    "    N = len(data)\n",
    "\n",
    "    tv_data = get_column(data, 0)\n",
    "\n",
    "    radio_data = get_column(data, 1)\n",
    "\n",
    "    newspaper_data = get_column(data, 2)\n",
    "\n",
    "    sales_data = get_column(data, 3)\n",
    "\n",
    "    X = [tv_data, radio_data, newspaper_data]\n",
    "    Y = sales_data\n",
    "    return X, Y\n",
    "\n",
    "X, Y = prepare_data('advertising.csv')\n",
    "list = [sum(X[0][:5]), sum(X[1][:5]), sum(X[2][:5]), sum(Y[:5])]\n",
    "print(list)"
   ]
  },
  {
   "cell_type": "code",
   "execution_count": 163,
   "metadata": {},
   "outputs": [
    {
     "name": "stdout",
     "output_type": "stream",
     "text": [
      "1.0\n"
     ]
    }
   ],
   "source": [
    "def implement_linear_regression(X_data, y_data, epoch_max = 50, lr = 1e-5):\n",
    "    losses = []\n",
    "\n",
    "    w1, w2, w3, b = initialize_params()\n",
    "\n",
    "    N = len(y_data)\n",
    "    for epoch in range(epoch_max):\n",
    "        for i in range(N):\n",
    "            x1 = X_data[0][i]\n",
    "            x2 = X_data[1][i]\n",
    "            x3 = X_data[2][i]\n",
    "\n",
    "            y = y_data[i]\n",
    "\n",
    "            y_hat = predict(x1, x2, x3, w1, w2, w3, b)\n",
    "\n",
    "            loss = compute_loss_mean(y, y_hat)\n",
    "\n",
    "            d1_dw1 = compute_gradient_wi(x1, y, y_hat)\n",
    "            d1_dw2 = compute_gradient_wi(x2, y, y_hat)\n",
    "            d1_dw3 = compute_gradient_wi(x3, y, y_hat)\n",
    "            d1_db = compute_gradient_b(y, y_hat)\n",
    "\n",
    "            w1 = update_weight_wi(w1, d1_dw1, lr)\n",
    "            w2 = update_weight_wi(w2, d1_dw2, lr)\n",
    "            w3 = update_weight_wi(w3, d1_dw3, lr)\n",
    "            b = update_weight_b(b, d1_db, lr)\n",
    "\n",
    "            losses.append(loss)\n",
    "\n",
    "    return w1, w2, w3, b, losses\n",
    "\n",
    "def initialize_params():\n",
    "    w1 = random.gauss(mu=0.0, sigma=0.01)\n",
    "    w2 = random.gauss(mu=0.0, sigma=0.01)\n",
    "    w3 = random.gauss(mu=0.0, sigma=0.01)\n",
    "    b = 0\n",
    "    return w1, w2, w3, b\n",
    "\n",
    "def predict(x1, x2, x3, w1, w2, w3, b):\n",
    "    result = w1 * x1 + w2 * x2 + w3 * x3 + b\n",
    "    return result\n",
    "\n",
    "y = predict(x1=1, x2=1, x3=1, w1=0, w2=0.5, w3=0, b=0.5)\n",
    "print(y)"
   ]
  },
  {
   "cell_type": "code",
   "execution_count": 164,
   "metadata": {},
   "outputs": [
    {
     "name": "stdout",
     "output_type": "stream",
     "text": [
      "0.25\n"
     ]
    }
   ],
   "source": [
    "def compute_loss_mean(y, y_hat):\n",
    "    loss = (y - y_hat) ** 2\n",
    "    return loss\n",
    "\n",
    "l = compute_loss_mean(y=1, y_hat=0.5)\n",
    "print(l)"
   ]
  },
  {
   "cell_type": "code",
   "execution_count": 165,
   "metadata": {},
   "outputs": [
    {
     "name": "stdout",
     "output_type": "stream",
     "text": [
      "-1.0\n"
     ]
    }
   ],
   "source": [
    "def compute_gradient_wi(x1, y, y_hat):\n",
    "    dl_dwi = 2 * x1 * (y_hat - y)\n",
    "    return dl_dwi\n",
    "\n",
    "def compute_gradient_b(y, y_hat):\n",
    "    dl_db = 2 * (y_hat - y)\n",
    "    return dl_db\n",
    "\n",
    "g_wi = compute_gradient_wi(x1=1, y=1, y_hat=0.5)\n",
    "print(g_wi)"
   ]
  },
  {
   "cell_type": "code",
   "execution_count": 166,
   "metadata": {},
   "outputs": [
    {
     "name": "stdout",
     "output_type": "stream",
     "text": [
      "-3.0\n"
     ]
    }
   ],
   "source": [
    "g_b = compute_gradient_b(y=2, y_hat=0.5)\n",
    "print(g_b)"
   ]
  },
  {
   "cell_type": "code",
   "execution_count": 167,
   "metadata": {},
   "outputs": [
    {
     "name": "stdout",
     "output_type": "stream",
     "text": [
      "1.000005\n"
     ]
    }
   ],
   "source": [
    "def update_weight_wi(wi, dl_dwi, lr):\n",
    "    wi = wi - lr * dl_dwi\n",
    "    return wi\n",
    "\n",
    "def update_weight_b(b, dl_db, lr):\n",
    "    b = b - lr * dl_db\n",
    "    return b\n",
    "\n",
    "after_wi = update_weight_wi(wi=1.0, dl_dwi=-0.5, lr=1e-5)\n",
    "print(after_wi)"
   ]
  },
  {
   "cell_type": "code",
   "execution_count": 168,
   "metadata": {},
   "outputs": [
    {
     "name": "stdout",
     "output_type": "stream",
     "text": [
      "0.50001\n"
     ]
    }
   ],
   "source": [
    "after_b = update_weight_b(b=0.5, dl_db=-1.0, lr=1e-5)\n",
    "print(after_b)"
   ]
  },
  {
   "cell_type": "code",
   "execution_count": 169,
   "metadata": {},
   "outputs": [
    {
     "data": {
      "image/png": "[encoded data removed]",
      "text/plain": [
       "<Figure size 640x480 with 1 Axes>"
      ]
     },
     "metadata": {},
     "output_type": "display_data"
    }
   ],
   "source": [
    "(w1, w2, w3, b, losses) = implement_linear_regression(X, Y)\n",
    "plt.plot(losses[:100])\n",
    "plt.xlabel('#iteration')\n",
    "plt.ylabel('loss')\n",
    "plt.show()"
   ]
  },
  {
   "cell_type": "code",
   "execution_count": 170,
   "metadata": {},
   "outputs": [
    {
     "name": "stdout",
     "output_type": "stream",
     "text": [
      "0.074 0.159 0.018 0.139\n"
     ]
    }
   ],
   "source": [
    "X, Y = prepare_data('advertising.csv')\n",
    "(w1, w2, w3, b, losses) = implement_linear_regression(X, Y)\n",
    "print(round(w1, 3), round(w2, 3), round(w3, 3), round(b, 3))"
   ]
  },
  {
   "cell_type": "code",
   "execution_count": 171,
   "metadata": {},
   "outputs": [
    {
     "name": "stdout",
     "output_type": "stream",
     "text": [
      "predicted sales: 8.176441496327014\n"
     ]
    }
   ],
   "source": [
    "tv = 19.2\n",
    "radio = 35.9\n",
    "newspaper = 51.3\n",
    "\n",
    "X, Y = prepare_data('advertising.csv')\n",
    "(w1, w2, w3, b, losses) = implement_linear_regression(X, Y, epoch_max=50, lr=1e-5)\n",
    "sales = predict(tv, radio, newspaper, w1, w2, w3, b)\n",
    "print(f'predicted sales: {sales}')"
   ]
  },
  {
   "cell_type": "code",
   "execution_count": 172,
   "metadata": {},
   "outputs": [
    {
     "name": "stdout",
     "output_type": "stream",
     "text": [
      "0.5\n"
     ]
    }
   ],
   "source": [
    "def compute_loss_mae(y, y_hat):\n",
    "    loss = abs(y - y_hat)\n",
    "    return loss\n",
    "\n",
    "l = compute_loss_mae(y_hat=1, y=0.5)\n",
    "print(l)"
   ]
  },
  {
   "cell_type": "code",
   "execution_count": 173,
   "metadata": {},
   "outputs": [],
   "source": [
    "def implement_linear_regression_nsamples(X_data, y_data, epoch_max=50, lr=1e-5):\n",
    "    losses = []\n",
    "\n",
    "    # Initialize parameters w1, w2, w3, and b (weights and bias)\n",
    "    w1, w2, w3, b = initialize_params()\n",
    "    N = len(y_data)\n",
    "\n",
    "    for epoch in range(epoch_max):\n",
    "        # Initialize total loss and gradients to 0\n",
    "        loss_total = 0.0\n",
    "        dw1_total = 0.0\n",
    "        dw2_total = 0.0\n",
    "        dw3_total = 0.0\n",
    "        db_total = 0.0\n",
    "\n",
    "        # Loop over each sample\n",
    "        for i in range(N):\n",
    "            # Get a sample\n",
    "            x1 = X_data[0][i]  # TV data\n",
    "            x2 = X_data[1][i]  # Radio data\n",
    "            x3 = X_data[2][i]  # Newspaper data\n",
    "            y = y_data[i]      # Actual Sales data\n",
    "\n",
    "            # Compute predicted output y_hat\n",
    "            y_hat = predict(x1, x2, x3, w1, w2, w3, b)\n",
    "\n",
    "            # Compute loss (Mean Squared Error)\n",
    "            loss = compute_loss_mse(y, y_hat)\n",
    "\n",
    "            # Accumulate loss for this epoch\n",
    "            loss_total += loss\n",
    "\n",
    "            # Compute gradients for weights and bias\n",
    "            dl_dw1 = compute_gradient_wi(x1, y, y_hat)\n",
    "            dl_dw2 = compute_gradient_wi(x2, y, y_hat)\n",
    "            dl_dw3 = compute_gradient_wi(x3, y, y_hat)\n",
    "            dl_db = compute_gradient_b(y, y_hat)\n",
    "\n",
    "            # Accumulate gradients for all samples\n",
    "            dw1_total += dl_dw1\n",
    "            dw2_total += dl_dw2\n",
    "            dw3_total += dl_dw3\n",
    "            db_total += dl_db\n",
    "\n",
    "        # After processing all samples, update parameters (Gradient Descent)\n",
    "        w1 -= lr * dw1_total / N  # Update w1\n",
    "        w2 -= lr * dw2_total / N  # Update w2\n",
    "        w3 -= lr * dw3_total / N  # Update w3\n",
    "        b -= lr * db_total / N    # Update bias b\n",
    "\n",
    "        # Log the average loss for this epoch\n",
    "        losses.append(loss_total / N)\n",
    "\n",
    "    # Return the final weights, bias, and loss history\n",
    "    return (w1, w2, w3, b, losses)\n",
    "\n",
    "def compute_loss_mse(y, y_hat):\n",
    "    loss = (y - y_hat) ** 2\n",
    "    return loss"
   ]
  },
  {
   "cell_type": "code",
   "execution_count": 174,
   "metadata": {},
   "outputs": [
    {
     "name": "stdout",
     "output_type": "stream",
     "text": [
      "[302.93001193400966, 59.8468200278441, 21.303340022987832, 15.03801308892811, 13.871088917493898, 13.513951602742864, 13.289772938622157, 13.09160083792039, 12.902403819577751, 12.719343067521864, 12.54182385808933, 12.369610154322748, 12.20252697985901, 12.040413318582498, 11.883114546873772, 11.730481107636185, 11.582368173312082, 11.438635468968103, 11.29914712453532, 11.163771535425283, 11.032381228124542, 10.904852730116483, 10.78106644391602, 10.660906525075152, 10.544260764032602, 10.43102047168565, 10.321080368567323, 10.214338477514888, 10.110696019719919, 10.010057314053272, 9.912329679561719, 9.817423341036466, 9.725251337556573, 9.635729433913575, 9.548776034826693, 9.464312101860434, 9.382261072959585, 9.302548784519077, 9.225103395908947, 9.149855316376803, 9.076737134253122, 9.005683548386708, 8.93663130173995, 8.869519117076056, 8.804287634672109, 8.740879351994197, 8.679238565272906, 8.619311312919047, 8.561045320721895, 8.504389948773579, 8.449296140065357, 8.395716370702987, 8.343604601690291, 8.292916232231393, 8.24360805450388, 8.195638209856433, 8.148966146386098, 8.103552577851806, 8.059359443881798, 8.01634987143453, 7.974488137473219, 7.93373963281599, 7.89407082712464, 7.855449234995867, 7.817843383120501, 7.781222778477006, 7.745557877526551, 7.710820056378307, 7.676981581894149, 7.6440155837033865, 7.6118960270987115, 7.580597686785671, 7.550096121458723, 7.5203676491778575, 7.4913893235205515, 7.463138910484664, 7.435594866118522, 7.408736314855407, 7.382543028530142, 7.35699540605636, 7.332074453743548, 7.307761766233918, 7.284039508039233, 7.260890395659027, 7.238297680261739, 7.216245130911003, 7.194717018319966, 7.17369809911704, 7.153173600606866, 7.133129206011033, 7.113551040173272, 7.094425655714595, 7.075740019624277, 7.057481500272716, 7.039637854833121, 7.022197217099014, 7.00514808568514, 6.988479312599642, 6.972180092175864, 6.956239950352444, 6.940648734290712, 6.925396602318706, 6.910474014191689, 6.895871721659001, 6.881580759327689, 6.867592435813642, 6.853898325170977, 6.8404902585911005, 6.827360316362866, 6.814500820085593, 6.801904325127022, 6.789563613318486, 6.777471685879748, 6.7656217565664205, 6.754007245032825, 6.742621770403559, 6.731459145047183, 6.720513368545646, 6.709778621853404, 6.699249261640022, 6.688919814810743, 6.6787849731991775, 6.668839588426937, 6.659078666924704, 6.649497365109867, 6.640090984715657, 6.630854968267062, 6.621784894698909, 6.612876475111584, 6.604125548660135, 6.595528078572502, 6.58708014829278, 6.578777957745671, 6.570617819718258, 6.562596156355324, 6.554709495764862, 6.546954468730011, 6.539327805524319, 6.531826332826992, 6.524446970734891, 6.517186729868411, 6.5100427085681, 6.503012090179296, 6.496092140421983, 6.489280204843077, 6.482573706348774, 6.4759701428141545, 6.469467084767831, 6.46306217314926, 6.456753117136205, 6.4505376920405215, 6.4444137372697305, 6.4383791543526, 6.432431905026518, 6.426570009384883, 6.420791544082463, 6.415094640597018, 6.4094774835453565, 6.4039383090521245, 6.398475403169713, 6.393087100347547, 6.387771781949366, 6.382527874816922, 6.377353849878528, 6.3722482208012305, 6.367209542685092, 6.36223641079837, 6.35732745935214, 6.352481360313358, 6.347696822254918, 6.3429725892417, 6.338307439751434, 6.333700185629193, 6.329149671074662, 6.32465477166092, 6.320214393383915, 6.31582747174158, 6.311492970841681, 6.307209882537556, 6.30297722559067, 6.298794044859444, 6.294659410513261, 6.2905724172709965, 6.286532183663295, 6.282537851317787, 6.278588584266557, 6.274683568275251, 6.2708220101929335, 6.267003137322274, 6.263226196809272, 6.259490455051973, 6.255795197127521, 6.252139726237093, 6.248523363167969, 6.244945445772391, 6.2414053284625535, 6.237902381721261, 6.234435991627764, 6.231005559398311, 6.227610500940906, 6.224250246423878, 6.220924239857831, 6.217631938690459, 6.214372813413963, 6.211146347184612, 6.2079520354539675, 6.204789385611634, 6.201657916638949, 6.1985571587733475, 6.195486653183172, 6.19244595165242, 6.189434616275251, 6.186452219159857, 6.183498342141512, 6.180572576504404, 6.177674522712015, 6.1748037901458135, 6.171959996851946, 6.169142769295717, 6.166351742123588, 6.163586557932475, 6.160846867046119, 6.158132327298264, 6.155442603822557, 6.152777368848718, 6.150136301505102, 6.147519087627173, 6.144925419571843, 6.142354996037498, 6.139807521889463, 6.13728270799082, 6.134780271038298, 6.132299933403252, 6.129841422977329, 6.127404473022967, 6.124988822028286, 6.122594213566442, 6.120220396159206, 6.117867123144706, 6.1155341525490705, 6.113221246962029, 6.1109281734162115, 6.10865470327008, 6.106400612094383, 6.104165679562029, 6.101949689341219, 6.099752428991821, 6.09757368986482, 6.09541326700479, 6.093270959055227, 6.091146568166758, 6.089039899908039, 6.086950763179333, 6.084878970128611, 6.082824336070158, 6.080786679405614, 6.0787658215472735, 6.076761586843742, 6.074773802507687, 6.072802298545765, 6.070846907690618, 6.068907465334807, 6.066983809466727, 6.06507578060837, 6.063183221754897, 6.061305978315983, 6.05944389805887, 6.057596831053042, 6.0557646296165, 6.053947148263661, 6.052144243654636, 6.050355774546066, 6.048581601743334, 6.046821588054133, 6.045075598243363, 6.043343498989345, 6.041625158841247, 6.039920448177707, 6.038229239166683, 6.036551405726382, 6.0348868234872945, 6.033235369755334, 6.031596923475978, 6.029971365199389, 6.028358577046585, 6.026758442676464, 6.025170847253789, 6.023595677418053, 6.022032821253188, 6.020482168258127, 6.01894360931816, 6.017417036677056, 6.015902343909972, 6.014399425897092, 6.01290817879798, 6.011428500026585, 6.009960288226979, 6.008503443249719, 6.0070578661288, 6.005623459059296, 6.004200125375552, 6.0027877695299265, 6.001386297072141, 5.999995614629142, 5.9986156298854985, 5.997246251564336, 5.9958873894086615, 5.994538954163322, 5.993200857557297, 5.991873012286532, 5.990555331997122, 5.98924773126903, 5.987950125600086, 5.98666243139053, 5.985384565927833, 5.984116447371917, 5.982857994740784, 5.981609127896469, 5.980369767531326, 5.979139835154672, 5.977919253079754, 5.9767079444109905, 5.975505833031593, 5.974312843591419, 5.973128901495135, 5.9719539328906786, 5.970787864657959, 5.969630624397848, 5.968482140421403, 5.967342341739363, 5.966211158051892, 5.965088519738499, 5.963974357848269, 5.962868604090253, 5.96177119082411, 5.960682051050925, 5.959601118404265, 5.958528327141396, 5.957463612134742, 5.9564069088634755, 5.95535815340531, 5.954317282428499, 5.953284233183942, 5.952258943497537, 5.951241351762624, 5.950231396932599, 5.949229018513758, 5.94823415655814, 5.9472467516566745, 5.946266744932382, 5.945294078033682, 5.9443286931279316, 5.943370532895025, 5.94241954052111, 5.9414756596924905, 5.9405388345895815, 5.939609009881018, 5.93868613071787, 5.937770142727938, 5.93686099201023, 5.935958625129453, 5.935062989110662, 5.934174031433993, 5.933291700029485, 5.932415943272015, 5.9315467099763115, 5.930683949392055, 5.929827611199045, 5.928977645502512, 5.92813400282846, 5.927296634119074, 5.926465490728291, 5.925640524417339, 5.924821687350435, 5.924008932090504, 5.923202211594994, 5.922401479211755, 5.921606688674973, 5.920817794101206, 5.920034749985416, 5.919257511197149, 5.918486032976691, 5.917720270931372, 5.916960181031808, 5.916205719608376, 5.915456843347536, 5.914713509288365, 5.913975674819097, 5.913243297673688, 5.912516335928431, 5.911794747998701, 5.91107849263563, 5.910367528922893, 5.909661816273586, 5.9089613144270094, 5.908265983445674, 5.907575783712174, 5.906890675926251, 5.9062106211018, 5.905535580563948, 5.904865515946193, 5.904200389187539, 5.903540162529714, 5.902884798514383, 5.9022342599804425, 5.901588510061271, 5.9009475121821415, 5.900311230057525, 5.89967962768854, 5.899052669360375, 5.898430319639751, 5.8978125433724395, 5.897199305680783, 5.896590571961264, 5.895986307882072, 5.895386479380754, 5.894791052661861, 5.894199994194602, 5.893613270710565, 5.893030849201432, 5.892452696916752, 5.891878781361723, 5.8913090702949775, 5.890743531726436, 5.890182133915157, 5.8896248453672175, 5.889071634833607, 5.888522471308184, 5.887977324025583, 5.887436162459221, 5.886898956319285, 5.886365675550724, 5.885836290331324, 5.88531077106973, 5.884789088403543, 5.884271213197425, 5.8837571165411875, 5.883246769747961, 5.8827401443523355, 5.882237212108534, 5.881737944988618, 5.881242315180691, 5.880750295087125, 5.880261857322825, 5.879776974713469, 5.879295620293814, 5.878817767305998, 5.878343389197821, 5.877872459621125, 5.8774049524300995, 5.87694084167969, 5.876480101623925, 5.876022706714383, 5.8755686315985205, 5.87511785111816, 5.874670340307916, 5.874226074393651, 5.873785028790913, 5.873347179103482, 5.872912501121822, 5.872480970821612, 5.872052564362246, 5.87162725808543, 5.8712050285136606, 5.870785852348848, 5.87036970647089, 5.869956567936221, 5.8695464139764635, 5.8691392219970275, 5.868734969575727, 5.868333634461445, 5.867935194572779, 5.8675396279966945, 5.8671469129872165, 5.866757027964119, 5.866369951511608, 5.865985662377053, 5.8656041394697, 5.865225361859405, 5.86484930877539, 5.864475959604971, 5.864105293892363, 5.863737291337429, 5.8633719317944655, 5.863009195271042, 5.862649061926724, 5.862291512072005, 5.86193652616702, 5.8615840848204614, 5.861234168788421, 5.86088675897318, 5.86054183642217, 5.860199382326774, 5.859859378021257, 5.859521804981648, 5.859186644824619, 5.8588538793064515, 5.858523490321907, 5.858195459903186, 5.857869770218858, 5.857546403572826, 5.857225342403245, 5.856906569281535, 5.856590066911342, 5.85627581812748, 5.855963805894982, 5.855654013308062, 5.855346423589124, 5.8550410200878, 5.854737786279945, 5.854436705766682, 5.854137762273447, 5.853840939649029, 5.853546221864608, 5.853253593012851, 5.852963037306946, 5.852674539079719, 5.852388082782662, 5.852103652985083, 5.851821234373171, 5.851540811749104, 5.851262370030182, 5.85098589424792, 5.850711369547189, 5.850438781185349, 5.850168114531405, 5.849899355065122, 5.849632488376195, 5.849367500163425, 5.849104376233868, 5.848843102502009, 5.848583664988958, 5.848326049821618, 5.848070243231897, 5.847816231555887, 5.847564001233102, 5.847313538805642, 5.847064830917466, 5.846817864313575, 5.846572625839266, 5.846329102439352, 5.846087281157418, 5.845847149135071, 5.845608693611171, 5.8453719019211325, 5.845136761496153, 5.844903259862478, 5.844671384640743, 5.844441123545168, 5.844212464382926, 5.843985395053364, 5.8437599035473715, 5.843535977946627, 5.843313606422956, 5.843092777237608, 5.842873478740609, 5.842655699370049, 5.842439427651468, 5.842224652197134, 5.842011361705424, 5.841799544960162, 5.841589190829963, 5.84138028826759, 5.841172826309331, 5.840966794074332, 5.840762180764013, 5.840558975661429, 5.840357168130599, 5.840156747615996, 5.839957703641827, 5.8397600258115085, 5.839563703807039, 5.839368727388381, 5.839175086392903, 5.838982770734788, 5.838791770404429, 5.838602075467874, 5.838413676066249, 5.838226562415184, 5.838040724804244, 5.8378561535963795, 5.837672839227367, 5.837490772205261, 5.837309943109846, 5.837130342592069, 5.836951961373546, 5.836774790245996, 5.836598820070704, 5.836424041778026, 5.83625044636684, 5.836078024904027, 5.835906768523981, 5.835736668428061, 5.835567715884128, 5.835399902225995, 5.835233218852968, 5.835067657229323, 5.834903208883836, 5.834739865409266, 5.834577618461911, 5.834416459761095, 5.834256381088682, 5.834097374288668, 5.83393943126662, 5.833782543989273, 5.833626704484056, 5.833471904838623, 5.833318137200389, 5.833165393776108, 5.8330136668314, 5.832862948690311, 5.832713231734861, 5.832564508404653, 5.8324167711963515, 5.83227001266334, 5.832124225415246, 5.831979402117505, 5.831835535490972, 5.831692618311494, 5.831550643409464, 5.831409603669453, 5.831269492029772, 5.831130301482068, 5.830992025070944, 5.830854655893511, 5.830718187099044, 5.830582611888556, 5.830447923514418, 5.83031411527997, 5.8301811805391255, 5.83004911269601, 5.829917905204552, 5.829787551568146, 5.82965804533923, 5.829529380118963, 5.829401549556827, 5.82927454735027, 5.829148367244338, 5.829023003031335, 5.828898448550422, 5.828774697687338, 5.828651744373958, 5.828529582588013, 5.828408206352724, 5.828287609736426, 5.82816778685228, 5.828048731857896, 5.827930438955018, 5.82781290238918, 5.82769611644937, 5.827580075467726, 5.827464773819169, 5.827350205921131, 5.827236366233189, 5.827123249256765, 5.827010849534824, 5.8268991616515216, 5.826788180231938, 5.826677899941739, 5.826568315486882, 5.82645942161329, 5.8263512131065935, 5.8262436847917884, 5.826136831532948, 5.826030648232955, 5.82592512983317, 5.8258202713131615, 5.825716067690419, 5.825612514020061, 5.825509605394547, 5.825407336943403, 5.82530570383292, 5.825204701265933, 5.8251043244814795, 5.8250045687545535, 5.82490542939584, 5.824806901751433, 5.824708981202577, 5.824611663165402, 5.8245149430906515, 5.8244188164634245, 5.824323278802913, 5.824228325662175, 5.824133952627809, 5.824040155319778, 5.823946929391115, 5.823854270527675, 5.823762174447898, 5.8236706369025635, 5.823579653674531, 5.82348922057852, 5.823399333460852, 5.823309988199212, 5.823221180702412, 5.823132906910194, 5.823045162792919, 5.822957944351416, 5.8228712476166855, 5.822785068649725, 5.822699403541272, 5.822614248411574, 5.8225295994102115, 5.822445452715796, 5.822361804535842, 5.822278651106476, 5.8221959886922665, 5.822113813585981, 5.822032122108389, 5.821950910608042, 5.8218701754610604, 5.821789913070953, 5.821710119868376, 5.821630792310936, 5.821551926882992, 5.821473520095468, 5.8213955684856185, 5.821318068616859, 5.82124101707855, 5.82116441048582, 5.821088245479355, 5.821012518725198, 5.82093722691459, 5.820862366763746, 5.820787935013683, 5.8207139284300276, 5.8206403438028325, 5.820567177946396, 5.820494427699077, 5.820422089923088, 5.820350161504365, 5.820278639352352, 5.820207520399825, 5.820136801602732, 5.8200664799400075, 5.819996552413387, 5.819927016047268, 5.8198578678885236, 5.819789105006297, 5.8197207244918925, 5.8196527234585655, 5.819585099041384, 5.819517848397042, 5.819450968703719, 5.819384457160877, 5.819318310989149, 5.819252527430158, 5.819187103746352, 5.819122037220845, 5.819057325157287, 5.818992964879666, 5.818928953732196, 5.818865289079145, 5.818801968304688, 5.818738988812739, 5.818676348026828, 5.818614043389947, 5.81855207236439, 5.818490432431621, 5.81842912109211, 5.818368135865217, 5.818307474289037, 5.818247133920238, 5.818187112333959, 5.8181274071236535, 5.818068015900917, 5.818008936295429, 5.817950165954719, 5.81789170254412, 5.8178335437465885, 5.817775687262561, 5.817718130809854, 5.817660872123517, 5.817603908955705, 5.8175472390755365, 5.817490860269, 5.817434770338785, 5.817378967104178, 5.817323448400932, 5.817268212081152, 5.817213256013156, 5.817158578081362, 5.817104176186168, 5.817050048243818, 5.8169961921863145, 5.816942605961236, 5.816889287531705, 5.816836234876199, 5.816783445988466, 5.8167309188774095, 5.816678651566974, 5.816626642096009, 5.816574888518186, 5.81652338890188, 5.816472141330042, 5.816421143900101, 5.816370394723864, 5.816319891927393, 5.816269633650889, 5.816219618048608, 5.816169843288761, 5.816120307553355, 5.81607100903815, 5.816021945952534, 5.815973116519407, 5.815924518975092, 5.815876151569236, 5.815828012564697, 5.815780100237446, 5.81573241287649, 5.815684948783757, 5.815637706273974, 5.815590683674615, 5.815543879325782, 5.815497291580109, 5.8154509188026715, 5.815404759370893, 5.815358811674456, 5.815313074115173, 5.815267545106974, 5.8152222230757245, 5.815177106459206, 5.815132193706978, 5.815087483280322, 5.815042973652125, 5.814998663306827, 5.814954550740291, 5.814910634459757, 5.814866912983728, 5.814823384841881, 5.814780048575037, 5.814736902734999, 5.814693945884516, 5.814651176597198, 5.814608593457427, 5.814566195060257, 5.814523980011379, 5.814481946926993, 5.814440094433755, 5.814398421168697, 5.814356925779138, 5.814315606922606, 5.814274463266786, 5.814233493489403, 5.814192696278191, 5.814152070330767, 5.814111614354604, 5.814071327066918, 5.81403120719463, 5.813991253474277, 5.813951464651907, 5.813911839483074, 5.813872376732703, 5.813833075175064, 5.813793933593669, 5.813754950781234, 5.81371612553958, 5.8136774566795655, 5.813638943021051, 5.813600583392802, 5.813562376632417, 5.813524321586289, 5.813486417109516, 5.813448662065838, 5.813411055327583, 5.813373595775585, 5.813336282299148, 5.81329911379594, 5.813262089171962, 5.81322520734149, 5.813188467226987, 5.813151867759043, 5.813115407876352, 5.813079086525601, 5.813042902661432, 5.8130068552463845, 5.812970943250837, 5.812935165652943, 5.812899521438578, 5.8128640096012445, 5.812828629142087, 5.8127933790697695, 5.812758258400455, 5.812723266157717, 5.812688401372518, 5.812653663083143, 5.812619050335128, 5.8125845621812235, 5.812550197681317, 5.812515955902428, 5.812481835918593, 5.812447836810842, 5.81241395766717, 5.8123801975824305, 5.812346555658325, 5.812313031003349, 5.8122796227327, 5.812246329968307, 5.812213151838669, 5.812180087478912, 5.812147136030677, 5.812114296642084, 5.812081568467696, 5.812048950668453, 5.812016442411625, 5.811984042870798, 5.811951751225758, 5.811919566662527, 5.811887488373236, 5.811855515556147, 5.811823647415557, 5.811791883161781, 5.811760222011097, 5.811728663185695, 5.8116972059136485, 5.8116658494288504, 5.811634592970982, 5.811603435785479, 5.811572377123455, 5.8115414162416945, 5.811510552402582, 5.811479784874078, 5.811449112929687, 5.811418535848372, 5.811388052914549, 5.81135766341805, 5.811327366654073, 5.811297161923107, 5.811267048530957, 5.811237025788658, 5.811207093012439, 5.811177249523714, 5.8111474946490045, 5.811117827719917, 5.811088248073116, 5.811058755050262, 5.811029347998011, 5.81100002626792, 5.810970789216467, 5.810941636204989, 5.8109125665996295, 5.810883579771342, 5.810854675095795, 5.810825851953418, 5.810797109729277, 5.810768447813108, 5.810739865599252, 5.810711362486607, 5.810682937878627, 5.810654591183276, 5.810626321812973, 5.81059812918458, 5.810570012719356, 5.810541971842952, 5.810514005985336, 5.810486114580779, 5.810458297067843, 5.8104305528893185, 5.810402881492198, 5.810375282327658, 5.810347754851022, 5.810320298521723, 5.810292912803262, 5.810265597163224, 5.810238351073184, 5.810211174008727, 5.810184065449379, 5.810157024878623, 5.810130051783819, 5.81010314565621, 5.810076305990872, 5.810049532286709, 5.810022824046395, 5.809996180776368, 5.809969601986785, 5.80994308719151, 5.809916635908078, 5.809890247657659, 5.809863921965049, 5.809837658358626, 5.809811456370335, 5.80978531553565, 5.809759235393558, 5.80973321548652, 5.809707255360456, 5.809681354564731, 5.809655512652074, 5.809629729178638, 5.809604003703889, 5.809578335790652, 5.809552725005025, 5.809527170916405, 5.8095016730974205, 5.80947623112395, 5.809450844575054, 5.8094255130329895, 5.809400236083149, 5.8093750133140745, 5.8093498443174045, 5.809324728687861, 5.809299666023232]\n"
     ]
    },
    {
     "data": {
      "image/png": "[encoded data removed]",
      "text/plain": [
       "<Figure size 640x480 with 1 Axes>"
      ]
     },
     "metadata": {},
     "output_type": "display_data"
    }
   ],
   "source": [
    "(w1, w2, w3, b, losses) = implement_linear_regression_nsamples(X, Y, epoch_max=1000, lr=1e-5)\n",
    "\n",
    "print(losses)\n",
    "plt.plot(losses)\n",
    "plt.xlabel('#epoch')\n",
    "plt.ylabel('loss')\n",
    "plt.show()"
   ]
  },
  {
   "cell_type": "code",
   "execution_count": 175,
   "metadata": {},
   "outputs": [
    {
     "name": "stdout",
     "output_type": "stream",
     "text": [
      "0.06710955642900909 0.15758104416823368 0.02961022394493392\n"
     ]
    }
   ],
   "source": [
    "X, Y = prepare_data('advertising.csv')\n",
    "(w1, w2, w3, b, losses) = implement_linear_regression_nsamples(X, Y, epoch_max=1000, lr=1e-5)\n",
    "print(w1, w2, w3)"
   ]
  },
  {
   "cell_type": "code",
   "execution_count": 176,
   "metadata": {},
   "outputs": [],
   "source": [
    "def prepare_data(file_name):\n",
    "    data = np.genfromtxt(file_name, delimiter=',', skip_header=1).tolist()\n",
    "    N = len(data)\n",
    "\n",
    "    tv_data = get_column(data, 0)\n",
    "\n",
    "    radio_data = get_column(data, 1)\n",
    "\n",
    "    newspaper_data = get_column(data, 2)\n",
    "\n",
    "    sales_data = get_column(data, 3)\n",
    "\n",
    "    X = [[1, x1, x2, x3] for x1, x2, x3 in zip(tv_data, radio_data, newspaper_data)]\n",
    "    Y = sales_data\n",
    "    return X, Y"
   ]
  },
  {
   "cell_type": "code",
   "execution_count": 177,
   "metadata": {},
   "outputs": [],
   "source": [
    "def initialize_params():\n",
    "    bias = 0\n",
    "    w1 = random.gauss(mu=0.0, sigma=0.01)\n",
    "    w2 = random.gauss(mu=0.0, sigma=0.01)\n",
    "    w3 = random.gauss(mu=0.0, sigma=0.01)\n",
    "    return [0 , -0.01268850433497871 , 0.004752496982185252 , 0.0073796171538643845]"
   ]
  },
  {
   "cell_type": "code",
   "execution_count": 178,
   "metadata": {},
   "outputs": [],
   "source": [
    "def predict(X_feature, weights):\n",
    "    return sum([f*w for f, w in zip(X_feature, weights)])\n",
    "\n",
    "def compute_loss_mean(y_hat, y):\n",
    "    loss = (y_hat - y) ** 2\n",
    "    return loss\n",
    "\n",
    "def compute_gradient_wi(X_feature, y, y_hat):\n",
    "    dl_dweights = [2*xi*(y_hat - y) for xi in X_feature]\n",
    "    return dl_dweights\n",
    "\n",
    "\n",
    "def update_weight(weights, dl_dweights, lr):\n",
    "    weights = [w- lr*dw for w, dw in zip(weights, dl_dweights)]\n",
    "    return weights"
   ]
  },
  {
   "cell_type": "code",
   "execution_count": 179,
   "metadata": {},
   "outputs": [
    {
     "name": "stdout",
     "output_type": "stream",
     "text": [
      "epoch: 0\n",
      "epoch: 1\n",
      "epoch: 2\n",
      "epoch: 3\n",
      "epoch: 4\n",
      "epoch: 5\n",
      "epoch: 6\n",
      "epoch: 7\n",
      "epoch: 8\n",
      "epoch: 9\n",
      "epoch: 10\n",
      "epoch: 11\n",
      "epoch: 12\n",
      "epoch: 13\n",
      "epoch: 14\n",
      "epoch: 15\n",
      "epoch: 16\n",
      "epoch: 17\n",
      "epoch: 18\n",
      "epoch: 19\n",
      "epoch: 20\n",
      "epoch: 21\n",
      "epoch: 22\n",
      "epoch: 23\n",
      "epoch: 24\n",
      "epoch: 25\n",
      "epoch: 26\n",
      "epoch: 27\n",
      "epoch: 28\n",
      "epoch: 29\n",
      "epoch: 30\n",
      "epoch: 31\n",
      "epoch: 32\n",
      "epoch: 33\n",
      "epoch: 34\n",
      "epoch: 35\n",
      "epoch: 36\n",
      "epoch: 37\n",
      "epoch: 38\n",
      "epoch: 39\n",
      "epoch: 40\n",
      "epoch: 41\n",
      "epoch: 42\n",
      "epoch: 43\n",
      "epoch: 44\n",
      "epoch: 45\n",
      "epoch: 46\n",
      "epoch: 47\n",
      "epoch: 48\n",
      "epoch: 49\n"
     ]
    },
    {
     "data": {
      "image/png": "[encoded data removed]",
      "text/plain": [
       "<Figure size 640x480 with 1 Axes>"
      ]
     },
     "metadata": {},
     "output_type": "display_data"
    }
   ],
   "source": [
    "def implement_linear_regression(X_feature, sales_data, epoch_max=50, lr=1e-5):\n",
    "    losses = []\n",
    "\n",
    "    weights = initialize_params()\n",
    "\n",
    "    N = len(sales_data)\n",
    "    for epoch in range(epoch_max):\n",
    "        print(f'epoch: {epoch}')\n",
    "        for i in range(N):\n",
    "            features_i = X_feature[i]\n",
    "            y = sales_data[i]\n",
    "\n",
    "            y_hat = predict(features_i, weights)\n",
    "\n",
    "            loss = compute_loss_mean(y, y_hat)\n",
    "\n",
    "            dl_dweights = compute_gradient_wi(features_i, y, y_hat)\n",
    "\n",
    "            weights = update_weight(weights, dl_dweights, lr)\n",
    "\n",
    "            losses.append(loss)\n",
    "\n",
    "    return weights, losses\n",
    "\n",
    "X, Y = prepare_data('advertising.csv')\n",
    "weights, losses = implement_linear_regression(X, Y, epoch_max=50, lr=1e-5)\n",
    "print(losses[9999])\n",
    "plt.plot(losses[0:100])\n",
    "plt.xlabel('#iteration')\n",
    "plt.ylabel('loss')\n",
    "plt.show()"
   ]
  },
  {
   "cell_type": "code",
   "execution_count": null,
   "metadata": {},
   "outputs": [],
   "source": []
  }
 ],
 "metadata": {
  "kernelspec": {
   "display_name": "base",
   "language": "python",
   "name": "python3"
  },
  "language_info": {
   "codemirror_mode": {
    "name": "ipython",
    "version": 3
   },
   "file_extension": ".py",
   "mimetype": "text/x-python",
   "name": "python",
   "nbconvert_exporter": "python",
   "pygments_lexer": "ipython3",
   "version": "3.12.4"
  }
 },
 "nbformat": 4,
 "nbformat_minor": 2
}
