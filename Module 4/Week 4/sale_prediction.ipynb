{
 "cells": [
  {
   "cell_type": "code",
   "execution_count": 2,
   "metadata": {},
   "outputs": [],
   "source": [
    "import numpy as np"
   ]
  },
  {
   "cell_type": "code",
   "execution_count": 4,
   "metadata": {},
   "outputs": [
    {
     "name": "stdout",
     "output_type": "stream",
     "text": [
      "1.0\n",
      "-2.235294117647059\n"
     ]
    }
   ],
   "source": [
    "class CustomLinearRegression:\n",
    "    def __init__ ( self , X_data , y_target , learning_rate =0.01 , num_epochs =10000) :\n",
    "        self.num_samples = X_data.shape[0]\n",
    "        self.X_data = np.c_[np.ones(self.num_samples, 1), X_data]\n",
    "        self.y_target = y_target\n",
    "        self.learning_rate = learning_rate\n",
    "        self.num_epochs = num_epochs\n",
    "\n",
    "        # Initialize the weights\n",
    "        self.theta = np.random.rand(self.X_data.shape[1], 1)\n",
    "        self.losses = []\n",
    "\n",
    "    def predict(self, X_data):\n",
    "        y_pred = X_data.dot(self.theta)\n",
    "        return y_pred\n",
    "\n",
    "    def compute_loss(self, y_pred, y_target):\n",
    "        loss = np.mean((y_pred - y_target) ** 2)\n",
    "        return loss\n",
    "\n",
    "    def fit(self):\n",
    "        for epoch in range(self.num_epochs):\n",
    "            y_pred = self.predict(self.X_data)\n",
    "            loss = self.compute_loss(y_pred, self.y_target)\n",
    "            self.losses.append(loss)\n",
    "\n",
    "            loss_gradient = 2 * (y_pred - self.y_target) / self.num_samples\n",
    "            gradient = self.X_data.T.dot(loss_gradient)\n",
    "\n",
    "            self.theta = self.theta - self.learning_rate * gradient\n",
    "\n",
    "            if (epoch % 50) == 0:\n",
    "                print(f'Epoch {epoch}, Loss: {loss}')\n",
    "\n",
    "        return {\n",
    "            'loss' : sum(self.losses) / len(self.losses),\n",
    "            'weight' : self.theta\n",
    "        }\n",
    "\n",
    "def r2score(y_pred, y):\n",
    "    rss = np.sum((y_pred - y) ** 2)\n",
    "    tss = np.sum((y - y.mean()) ** 2)\n",
    "    r2 = 1 - (rss / tss)\n",
    "    return r2\n",
    "\n",
    "# case 1\n",
    "y_pred = np.array([1 , 2 , 3 , 4 , 5])\n",
    "y = np.array([1 , 2 , 3 , 4 , 5])\n",
    "print(r2score(y_pred, y))\n",
    "\n",
    "# case 2\n",
    "y_pred = np.array([1 , 2 , 3 , 4 , 5])\n",
    "y = np.array([3 , 5 , 5 , 2 , 4])\n",
    "print(r2score(y_pred, y))"
   ]
  },
  {
   "cell_type": "code",
   "execution_count": 5,
   "metadata": {},
   "outputs": [
    {
     "name": "stdout",
     "output_type": "stream",
     "text": [
      "[[1 1]\n",
      " [2 4]\n",
      " [3 9]]\n"
     ]
    }
   ],
   "source": [
    "def create_polynomial_features(X , degree =2):\n",
    "    X_new = X\n",
    "    for d in range(2 , degree +1):\n",
    "        X_new = np.c_[X_new , np.power(X , d)]\n",
    "\n",
    "    return X_new\n",
    "\n",
    "X = np . array ([[1] , [2] , [3]])\n",
    "X_new = create_polynomial_features(X , degree =2)\n",
    "print(X_new)"
   ]
  },
  {
   "cell_type": "code",
   "execution_count": 6,
   "metadata": {},
   "outputs": [
    {
     "name": "stdout",
     "output_type": "stream",
     "text": [
      "[[[ 1  2]\n",
      "  [ 1  4]]\n",
      "\n",
      " [[ 2  3]\n",
      "  [ 4  9]]\n",
      "\n",
      " [[ 3  4]\n",
      "  [ 9 16]]]\n"
     ]
    }
   ],
   "source": [
    "X = np . array ([[1 , 2] ,\n",
    "[2 , 3] ,\n",
    "[3 , 4]])\n",
    "\n",
    "degree = 2\n",
    "\n",
    "def create_polynomial_features(X , degree =2) :\n",
    "    X_mem = []\n",
    "    for X_sub in X.T:\n",
    "        X_sub = X_sub.T\n",
    "        X_new = X_sub\n",
    "        for d in range(2 , degree +1):\n",
    "            X_new = np.c_[X_new , np.power(X_sub , d)]\n",
    "        X_mem.append(X_new.T)\n",
    "    return np.c_[X_mem].T\n",
    "\n",
    "X_new = create_polynomial_features(X , degree =2)\n",
    "print(X_new)"
   ]
  },
  {
   "cell_type": "code",
   "execution_count": 7,
   "metadata": {},
   "outputs": [
    {
     "data": {
      "text/html": [
       "<div>\n",
       "<style scoped>\n",
       "    .dataframe tbody tr th:only-of-type {\n",
       "        vertical-align: middle;\n",
       "    }\n",
       "\n",
       "    .dataframe tbody tr th {\n",
       "        vertical-align: top;\n",
       "    }\n",
       "\n",
       "    .dataframe thead th {\n",
       "        text-align: right;\n",
       "    }\n",
       "</style>\n",
       "<table border=\"1\" class=\"dataframe\">\n",
       "  <thead>\n",
       "    <tr style=\"text-align: right;\">\n",
       "      <th></th>\n",
       "      <th>TV</th>\n",
       "      <th>Radio</th>\n",
       "      <th>Social Media</th>\n",
       "      <th>Influencer</th>\n",
       "      <th>Sales</th>\n",
       "    </tr>\n",
       "  </thead>\n",
       "  <tbody>\n",
       "    <tr>\n",
       "      <th>0</th>\n",
       "      <td>16.0</td>\n",
       "      <td>6.566231</td>\n",
       "      <td>2.907983</td>\n",
       "      <td>Mega</td>\n",
       "      <td>54.732757</td>\n",
       "    </tr>\n",
       "    <tr>\n",
       "      <th>1</th>\n",
       "      <td>13.0</td>\n",
       "      <td>9.237765</td>\n",
       "      <td>2.409567</td>\n",
       "      <td>Mega</td>\n",
       "      <td>46.677897</td>\n",
       "    </tr>\n",
       "    <tr>\n",
       "      <th>2</th>\n",
       "      <td>41.0</td>\n",
       "      <td>15.886446</td>\n",
       "      <td>2.913410</td>\n",
       "      <td>Mega</td>\n",
       "      <td>150.177829</td>\n",
       "    </tr>\n",
       "    <tr>\n",
       "      <th>3</th>\n",
       "      <td>83.0</td>\n",
       "      <td>30.020028</td>\n",
       "      <td>6.922304</td>\n",
       "      <td>Mega</td>\n",
       "      <td>298.246340</td>\n",
       "    </tr>\n",
       "    <tr>\n",
       "      <th>4</th>\n",
       "      <td>15.0</td>\n",
       "      <td>8.437408</td>\n",
       "      <td>1.405998</td>\n",
       "      <td>Micro</td>\n",
       "      <td>56.594181</td>\n",
       "    </tr>\n",
       "  </tbody>\n",
       "</table>\n",
       "</div>"
      ],
      "text/plain": [
       "     TV      Radio  Social Media Influencer       Sales\n",
       "0  16.0   6.566231      2.907983       Mega   54.732757\n",
       "1  13.0   9.237765      2.409567       Mega   46.677897\n",
       "2  41.0  15.886446      2.913410       Mega  150.177829\n",
       "3  83.0  30.020028      6.922304       Mega  298.246340\n",
       "4  15.0   8.437408      1.405998      Micro   56.594181"
      ]
     },
     "execution_count": 7,
     "metadata": {},
     "output_type": "execute_result"
    }
   ],
   "source": [
    "import pandas as pd\n",
    "\n",
    "df = pd.read_csv('./SalesPrediction.csv')\n",
    "df.head()"
   ]
  },
  {
   "cell_type": "code",
   "execution_count": 8,
   "metadata": {},
   "outputs": [
    {
     "name": "stdout",
     "output_type": "stream",
     "text": [
      "<class 'pandas.core.frame.DataFrame'>\n",
      "RangeIndex: 4572 entries, 0 to 4571\n",
      "Data columns (total 5 columns):\n",
      " #   Column        Non-Null Count  Dtype  \n",
      "---  ------        --------------  -----  \n",
      " 0   TV            4562 non-null   float64\n",
      " 1   Radio         4568 non-null   float64\n",
      " 2   Social Media  4566 non-null   float64\n",
      " 3   Influencer    4572 non-null   object \n",
      " 4   Sales         4566 non-null   float64\n",
      "dtypes: float64(4), object(1)\n",
      "memory usage: 178.7+ KB\n"
     ]
    }
   ],
   "source": [
    "df.info()"
   ]
  },
  {
   "cell_type": "code",
   "execution_count": 9,
   "metadata": {},
   "outputs": [
    {
     "data": {
      "text/html": [
       "<div>\n",
       "<style scoped>\n",
       "    .dataframe tbody tr th:only-of-type {\n",
       "        vertical-align: middle;\n",
       "    }\n",
       "\n",
       "    .dataframe tbody tr th {\n",
       "        vertical-align: top;\n",
       "    }\n",
       "\n",
       "    .dataframe thead th {\n",
       "        text-align: right;\n",
       "    }\n",
       "</style>\n",
       "<table border=\"1\" class=\"dataframe\">\n",
       "  <thead>\n",
       "    <tr style=\"text-align: right;\">\n",
       "      <th></th>\n",
       "      <th>TV</th>\n",
       "      <th>Radio</th>\n",
       "      <th>Social Media</th>\n",
       "      <th>Sales</th>\n",
       "    </tr>\n",
       "  </thead>\n",
       "  <tbody>\n",
       "    <tr>\n",
       "      <th>count</th>\n",
       "      <td>4562.000000</td>\n",
       "      <td>4568.000000</td>\n",
       "      <td>4566.000000</td>\n",
       "      <td>4566.000000</td>\n",
       "    </tr>\n",
       "    <tr>\n",
       "      <th>mean</th>\n",
       "      <td>54.066857</td>\n",
       "      <td>18.160356</td>\n",
       "      <td>3.323956</td>\n",
       "      <td>192.466602</td>\n",
       "    </tr>\n",
       "    <tr>\n",
       "      <th>std</th>\n",
       "      <td>26.125054</td>\n",
       "      <td>9.676958</td>\n",
       "      <td>2.212670</td>\n",
       "      <td>93.133092</td>\n",
       "    </tr>\n",
       "    <tr>\n",
       "      <th>min</th>\n",
       "      <td>10.000000</td>\n",
       "      <td>0.000684</td>\n",
       "      <td>0.000031</td>\n",
       "      <td>31.199409</td>\n",
       "    </tr>\n",
       "    <tr>\n",
       "      <th>25%</th>\n",
       "      <td>32.000000</td>\n",
       "      <td>10.525957</td>\n",
       "      <td>1.527849</td>\n",
       "      <td>112.322882</td>\n",
       "    </tr>\n",
       "    <tr>\n",
       "      <th>50%</th>\n",
       "      <td>53.000000</td>\n",
       "      <td>17.859513</td>\n",
       "      <td>3.055565</td>\n",
       "      <td>189.231172</td>\n",
       "    </tr>\n",
       "    <tr>\n",
       "      <th>75%</th>\n",
       "      <td>77.000000</td>\n",
       "      <td>25.649730</td>\n",
       "      <td>4.807558</td>\n",
       "      <td>272.507922</td>\n",
       "    </tr>\n",
       "    <tr>\n",
       "      <th>max</th>\n",
       "      <td>100.000000</td>\n",
       "      <td>48.871161</td>\n",
       "      <td>13.981662</td>\n",
       "      <td>364.079751</td>\n",
       "    </tr>\n",
       "  </tbody>\n",
       "</table>\n",
       "</div>"
      ],
      "text/plain": [
       "                TV        Radio  Social Media        Sales\n",
       "count  4562.000000  4568.000000   4566.000000  4566.000000\n",
       "mean     54.066857    18.160356      3.323956   192.466602\n",
       "std      26.125054     9.676958      2.212670    93.133092\n",
       "min      10.000000     0.000684      0.000031    31.199409\n",
       "25%      32.000000    10.525957      1.527849   112.322882\n",
       "50%      53.000000    17.859513      3.055565   189.231172\n",
       "75%      77.000000    25.649730      4.807558   272.507922\n",
       "max     100.000000    48.871161     13.981662   364.079751"
      ]
     },
     "execution_count": 9,
     "metadata": {},
     "output_type": "execute_result"
    }
   ],
   "source": [
    "df.describe()"
   ]
  },
  {
   "cell_type": "code",
   "execution_count": 10,
   "metadata": {},
   "outputs": [
    {
     "data": {
      "text/html": [
       "<div>\n",
       "<style scoped>\n",
       "    .dataframe tbody tr th:only-of-type {\n",
       "        vertical-align: middle;\n",
       "    }\n",
       "\n",
       "    .dataframe tbody tr th {\n",
       "        vertical-align: top;\n",
       "    }\n",
       "\n",
       "    .dataframe thead th {\n",
       "        text-align: right;\n",
       "    }\n",
       "</style>\n",
       "<table border=\"1\" class=\"dataframe\">\n",
       "  <thead>\n",
       "    <tr style=\"text-align: right;\">\n",
       "      <th></th>\n",
       "      <th>TV</th>\n",
       "      <th>Radio</th>\n",
       "      <th>Social Media</th>\n",
       "      <th>Sales</th>\n",
       "      <th>Influencer_Macro</th>\n",
       "      <th>Influencer_Mega</th>\n",
       "      <th>Influencer_Micro</th>\n",
       "      <th>Influencer_Nano</th>\n",
       "    </tr>\n",
       "  </thead>\n",
       "  <tbody>\n",
       "    <tr>\n",
       "      <th>0</th>\n",
       "      <td>16.0</td>\n",
       "      <td>6.566231</td>\n",
       "      <td>2.907983</td>\n",
       "      <td>54.732757</td>\n",
       "      <td>False</td>\n",
       "      <td>True</td>\n",
       "      <td>False</td>\n",
       "      <td>False</td>\n",
       "    </tr>\n",
       "    <tr>\n",
       "      <th>1</th>\n",
       "      <td>13.0</td>\n",
       "      <td>9.237765</td>\n",
       "      <td>2.409567</td>\n",
       "      <td>46.677897</td>\n",
       "      <td>False</td>\n",
       "      <td>True</td>\n",
       "      <td>False</td>\n",
       "      <td>False</td>\n",
       "    </tr>\n",
       "    <tr>\n",
       "      <th>2</th>\n",
       "      <td>41.0</td>\n",
       "      <td>15.886446</td>\n",
       "      <td>2.913410</td>\n",
       "      <td>150.177829</td>\n",
       "      <td>False</td>\n",
       "      <td>True</td>\n",
       "      <td>False</td>\n",
       "      <td>False</td>\n",
       "    </tr>\n",
       "    <tr>\n",
       "      <th>3</th>\n",
       "      <td>83.0</td>\n",
       "      <td>30.020028</td>\n",
       "      <td>6.922304</td>\n",
       "      <td>298.246340</td>\n",
       "      <td>False</td>\n",
       "      <td>True</td>\n",
       "      <td>False</td>\n",
       "      <td>False</td>\n",
       "    </tr>\n",
       "    <tr>\n",
       "      <th>4</th>\n",
       "      <td>15.0</td>\n",
       "      <td>8.437408</td>\n",
       "      <td>1.405998</td>\n",
       "      <td>56.594181</td>\n",
       "      <td>False</td>\n",
       "      <td>False</td>\n",
       "      <td>True</td>\n",
       "      <td>False</td>\n",
       "    </tr>\n",
       "  </tbody>\n",
       "</table>\n",
       "</div>"
      ],
      "text/plain": [
       "     TV      Radio  Social Media       Sales  Influencer_Macro  \\\n",
       "0  16.0   6.566231      2.907983   54.732757             False   \n",
       "1  13.0   9.237765      2.409567   46.677897             False   \n",
       "2  41.0  15.886446      2.913410  150.177829             False   \n",
       "3  83.0  30.020028      6.922304  298.246340             False   \n",
       "4  15.0   8.437408      1.405998   56.594181             False   \n",
       "\n",
       "   Influencer_Mega  Influencer_Micro  Influencer_Nano  \n",
       "0             True             False            False  \n",
       "1             True             False            False  \n",
       "2             True             False            False  \n",
       "3             True             False            False  \n",
       "4            False              True            False  "
      ]
     },
     "execution_count": 10,
     "metadata": {},
     "output_type": "execute_result"
    }
   ],
   "source": [
    "df = pd.get_dummies(df)\n",
    "df.head()"
   ]
  },
  {
   "cell_type": "code",
   "execution_count": 11,
   "metadata": {},
   "outputs": [
    {
     "data": {
      "text/plain": [
       "TV                  10\n",
       "Radio                4\n",
       "Social Media         6\n",
       "Sales                6\n",
       "Influencer_Macro     0\n",
       "Influencer_Mega      0\n",
       "Influencer_Micro     0\n",
       "Influencer_Nano      0\n",
       "dtype: int64"
      ]
     },
     "execution_count": 11,
     "metadata": {},
     "output_type": "execute_result"
    }
   ],
   "source": [
    "df.isnull().sum()"
   ]
  },
  {
   "cell_type": "code",
   "execution_count": 12,
   "metadata": {},
   "outputs": [
    {
     "data": {
      "text/plain": [
       "TV                  0\n",
       "Radio               0\n",
       "Social Media        0\n",
       "Sales               0\n",
       "Influencer_Macro    0\n",
       "Influencer_Mega     0\n",
       "Influencer_Micro    0\n",
       "Influencer_Nano     0\n",
       "dtype: int64"
      ]
     },
     "execution_count": 12,
     "metadata": {},
     "output_type": "execute_result"
    }
   ],
   "source": [
    "df = df.fillna(0)\n",
    "df.isnull().sum()"
   ]
  },
  {
   "cell_type": "code",
   "execution_count": 13,
   "metadata": {},
   "outputs": [
    {
     "data": {
      "text/plain": [
       "TV                  0\n",
       "Radio               0\n",
       "Social Media        0\n",
       "Sales               0\n",
       "Influencer_Macro    0\n",
       "Influencer_Mega     0\n",
       "Influencer_Micro    0\n",
       "Influencer_Nano     0\n",
       "dtype: int64"
      ]
     },
     "execution_count": 13,
     "metadata": {},
     "output_type": "execute_result"
    }
   ],
   "source": [
    "df = df.fillna(df.mean())\n",
    "df.isnull().sum()"
   ]
  },
  {
   "cell_type": "code",
   "execution_count": 16,
   "metadata": {},
   "outputs": [
    {
     "data": {
      "text/html": [
       "<div>\n",
       "<style scoped>\n",
       "    .dataframe tbody tr th:only-of-type {\n",
       "        vertical-align: middle;\n",
       "    }\n",
       "\n",
       "    .dataframe tbody tr th {\n",
       "        vertical-align: top;\n",
       "    }\n",
       "\n",
       "    .dataframe thead th {\n",
       "        text-align: right;\n",
       "    }\n",
       "</style>\n",
       "<table border=\"1\" class=\"dataframe\">\n",
       "  <thead>\n",
       "    <tr style=\"text-align: right;\">\n",
       "      <th></th>\n",
       "      <th>TV</th>\n",
       "      <th>Radio</th>\n",
       "      <th>Social Media</th>\n",
       "      <th>Sales</th>\n",
       "    </tr>\n",
       "  </thead>\n",
       "  <tbody>\n",
       "    <tr>\n",
       "      <th>TV</th>\n",
       "      <td>1.000000</td>\n",
       "      <td>0.860518</td>\n",
       "      <td>0.522565</td>\n",
       "      <td>0.988570</td>\n",
       "    </tr>\n",
       "    <tr>\n",
       "      <th>Radio</th>\n",
       "      <td>0.860518</td>\n",
       "      <td>1.000000</td>\n",
       "      <td>0.604450</td>\n",
       "      <td>0.863790</td>\n",
       "    </tr>\n",
       "    <tr>\n",
       "      <th>Social Media</th>\n",
       "      <td>0.522565</td>\n",
       "      <td>0.604450</td>\n",
       "      <td>1.000000</td>\n",
       "      <td>0.526777</td>\n",
       "    </tr>\n",
       "    <tr>\n",
       "      <th>Sales</th>\n",
       "      <td>0.988570</td>\n",
       "      <td>0.863790</td>\n",
       "      <td>0.526777</td>\n",
       "      <td>1.000000</td>\n",
       "    </tr>\n",
       "  </tbody>\n",
       "</table>\n",
       "</div>"
      ],
      "text/plain": [
       "                    TV     Radio  Social Media     Sales\n",
       "TV            1.000000  0.860518      0.522565  0.988570\n",
       "Radio         0.860518  1.000000      0.604450  0.863790\n",
       "Social Media  0.522565  0.604450      1.000000  0.526777\n",
       "Sales         0.988570  0.863790      0.526777  1.000000"
      ]
     },
     "execution_count": 16,
     "metadata": {},
     "output_type": "execute_result"
    }
   ],
   "source": [
    "df[['TV', 'Radio', 'Social Media', 'Sales']].corr()"
   ]
  },
  {
   "cell_type": "code",
   "execution_count": 22,
   "metadata": {},
   "outputs": [],
   "source": [
    "X = df[['TV', 'Radio', 'Social Media', 'Influencer_Macro' ,\n",
    "        'Influencer_Mega', 'Influencer_Micro', 'Influencer_Nano']]\n",
    "y = df['Sales']"
   ]
  },
  {
   "cell_type": "code",
   "execution_count": 23,
   "metadata": {},
   "outputs": [
    {
     "data": {
      "text/plain": [
       "((3063, 7), (1509, 7))"
      ]
     },
     "execution_count": 23,
     "metadata": {},
     "output_type": "execute_result"
    }
   ],
   "source": [
    "from sklearn.model_selection import train_test_split\n",
    "\n",
    "X_train, X_test, y_train, y_test = train_test_split(\n",
    "    X, y, test_size=0.33, random_state=0   \n",
    ")\n",
    "\n",
    "X_train.shape, X_test.shape"
   ]
  },
  {
   "cell_type": "code",
   "execution_count": 24,
   "metadata": {},
   "outputs": [
    {
     "data": {
      "text/plain": [
       "((3063,), (1509,))"
      ]
     },
     "execution_count": 24,
     "metadata": {},
     "output_type": "execute_result"
    }
   ],
   "source": [
    "y_train.shape, y_test.shape"
   ]
  },
  {
   "cell_type": "code",
   "execution_count": 25,
   "metadata": {},
   "outputs": [
    {
     "data": {
      "text/plain": [
       "53.99706170421156"
      ]
     },
     "execution_count": 25,
     "metadata": {},
     "output_type": "execute_result"
    }
   ],
   "source": [
    "from sklearn.preprocessing import StandardScaler\n",
    "\n",
    "scaler = StandardScaler()\n",
    "X_train_processed = scaler.fit_transform(X_train)\n",
    "scaler.mean_[0]"
   ]
  },
  {
   "cell_type": "code",
   "execution_count": null,
   "metadata": {},
   "outputs": [],
   "source": [
    "from sklearn . preprocessing import PolynomialFeatures\n",
    "\n",
    "poly_features = PolynomialFeatures(degree =2)\n",
    "X_train_poly = poly_features.fit_transform(X_train_processed)\n",
    "X_test_poly = poly_features.transform(X_test_processed) "
   ]
  }
 ],
 "metadata": {
  "kernelspec": {
   "display_name": "ruludit",
   "language": "python",
   "name": "python3"
  },
  "language_info": {
   "codemirror_mode": {
    "name": "ipython",
    "version": 3
   },
   "file_extension": ".py",
   "mimetype": "text/x-python",
   "name": "python",
   "nbconvert_exporter": "python",
   "pygments_lexer": "ipython3",
   "version": "3.9.20"
  }
 },
 "nbformat": 4,
 "nbformat_minor": 2
}
