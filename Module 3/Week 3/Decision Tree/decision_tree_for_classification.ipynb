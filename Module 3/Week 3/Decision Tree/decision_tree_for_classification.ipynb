{
 "cells": [
  {
   "cell_type": "code",
   "execution_count": 9,
   "metadata": {},
   "outputs": [
    {
     "data": {
      "text/html": [
       "<div>\n",
       "<style scoped>\n",
       "    .dataframe tbody tr th:only-of-type {\n",
       "        vertical-align: middle;\n",
       "    }\n",
       "\n",
       "    .dataframe tbody tr th {\n",
       "        vertical-align: top;\n",
       "    }\n",
       "\n",
       "    .dataframe thead th {\n",
       "        text-align: right;\n",
       "    }\n",
       "</style>\n",
       "<table border=\"1\" class=\"dataframe\">\n",
       "  <thead>\n",
       "    <tr style=\"text-align: right;\">\n",
       "      <th></th>\n",
       "      <th>Age</th>\n",
       "      <th>Likes English</th>\n",
       "      <th>Like AI</th>\n",
       "      <th>Raise Salary</th>\n",
       "    </tr>\n",
       "  </thead>\n",
       "  <tbody>\n",
       "    <tr>\n",
       "      <th>0</th>\n",
       "      <td>23</td>\n",
       "      <td>0</td>\n",
       "      <td>0</td>\n",
       "      <td>0</td>\n",
       "    </tr>\n",
       "    <tr>\n",
       "      <th>1</th>\n",
       "      <td>25</td>\n",
       "      <td>1</td>\n",
       "      <td>1</td>\n",
       "      <td>0</td>\n",
       "    </tr>\n",
       "    <tr>\n",
       "      <th>2</th>\n",
       "      <td>27</td>\n",
       "      <td>1</td>\n",
       "      <td>0</td>\n",
       "      <td>1</td>\n",
       "    </tr>\n",
       "    <tr>\n",
       "      <th>3</th>\n",
       "      <td>29</td>\n",
       "      <td>0</td>\n",
       "      <td>1</td>\n",
       "      <td>1</td>\n",
       "    </tr>\n",
       "    <tr>\n",
       "      <th>4</th>\n",
       "      <td>29</td>\n",
       "      <td>0</td>\n",
       "      <td>0</td>\n",
       "      <td>0</td>\n",
       "    </tr>\n",
       "  </tbody>\n",
       "</table>\n",
       "</div>"
      ],
      "text/plain": [
       "   Age  Likes English  Like AI  Raise Salary\n",
       "0   23              0        0             0\n",
       "1   25              1        1             0\n",
       "2   27              1        0             1\n",
       "3   29              0        1             1\n",
       "4   29              0        0             0"
      ]
     },
     "execution_count": 9,
     "metadata": {},
     "output_type": "execute_result"
    }
   ],
   "source": [
    "# Cho dữ liệu D như sau:\n",
    "# Age Likes English Like AI Raise Salary\n",
    "# 23 0 0 0\n",
    "# 25 1 1 0\n",
    "# 27 1 0 1\n",
    "# 29 0 1 1\n",
    "# 29 0 0 0\n",
    "\n",
    "import numpy as np\n",
    "import pandas as pd\n",
    "\n",
    "data = {\n",
    "    'Age': [23, 25, 27, 29, 29],\n",
    "    'Likes English': [0, 1, 1, 0, 0],\n",
    "    'Like AI': [0, 1, 0, 1, 0],\n",
    "    'Raise Salary': [0, 0, 1, 1, 0]\n",
    "}\n",
    "\n",
    "df = pd.DataFrame(data)\n",
    "df"
   ]
  },
  {
   "cell_type": "markdown",
   "metadata": {},
   "source": [
    "#### Câu hỏi 1 Giả sử cho bài toán bộ dữ liệu D gồm các ví dụ được phân loại thành 2 lớp. Độ đo Entropy bằng 1 khi nào?"
   ]
  },
  {
   "cell_type": "code",
   "execution_count": 10,
   "metadata": {},
   "outputs": [],
   "source": [
    "# Độ đo Entropy của tập dữ liệu D bằng 1 khi Số dữ liệu 2 lớp là bằng nhau\n",
    "\n",
    "def entropy(target_col):\n",
    "    elements, counts = np.unique(target_col, return_counts=True)\n",
    "    probabilities = counts / len(target_col)\n",
    "    entropy = -np.sum([p * np.log2(p) for p in probabilities if p > 0])\n",
    "    return entropy"
   ]
  },
  {
   "cell_type": "markdown",
   "metadata": {},
   "source": [
    "#### Câu hỏi 2 Tính giá trị Gini của các mẫu trong cột nhãn D = ‘Raise Salary’?"
   ]
  },
  {
   "cell_type": "code",
   "execution_count": 11,
   "metadata": {},
   "outputs": [
    {
     "name": "stdout",
     "output_type": "stream",
     "text": [
      "Gini of Raise Salary: 0.48\n"
     ]
    }
   ],
   "source": [
    "def gini(target_col):\n",
    "    elements, counts = np.unique(target_col, return_counts=True)\n",
    "    probabilities = counts / len(target_col)\n",
    "    gini = 1 - np.sum([p**2 for p in probabilities])\n",
    "    return gini\n",
    "\n",
    "gini_raise_salary = gini(df['Raise Salary'])\n",
    "print(f'Gini of Raise Salary: {gini_raise_salary}')"
   ]
  },
  {
   "cell_type": "markdown",
   "metadata": {},
   "source": [
    "#### Câu hỏi 3 Tính Gini của bộ dữ liệu khi thuộc tính ‘Likes English’ được chọn là node gốc?"
   ]
  },
  {
   "cell_type": "code",
   "execution_count": 12,
   "metadata": {},
   "outputs": [
    {
     "name": "stdout",
     "output_type": "stream",
     "text": [
      "Gini of Likes English: 0.4666666666666667\n"
     ]
    }
   ],
   "source": [
    "# Bước 1: Chia tập dữ liệu theo thuộc tính 'Likes English'\n",
    "group_0 = df[df['Likes English'] == 0]['Raise Salary']\n",
    "group_1 = df[df['Likes English'] == 1]['Raise Salary']\n",
    "\n",
    "# Bước 2: Tính Gini cho từng nhánh\n",
    "gini_0 = gini(group_0)\n",
    "gini_1 = gini(group_1)\n",
    "\n",
    "# Bước 3: Tính Gini cho thuộc tính 'Likes English'\n",
    "gini_likes_english = (len(group_0) / len(df)) * gini_0 + (len(group_1) / len(df)) * gini_1\n",
    "print(f'Gini of Likes English: {gini_likes_english}')\n"
   ]
  },
  {
   "cell_type": "markdown",
   "metadata": {},
   "source": [
    "#### Câu hỏi 4 Tính Gini của bộ dữ liệu khi thuộc tính ‘Age’ được chọn là node gốc với điều kiện phân chia thành tập D1 và D2 là ‘Age <= 26’?"
   ]
  },
  {
   "cell_type": "code",
   "execution_count": 13,
   "metadata": {},
   "outputs": [
    {
     "name": "stdout",
     "output_type": "stream",
     "text": [
      "Gini of Age: 0.26666666666666666\n"
     ]
    }
   ],
   "source": [
    "# Bước 1 : Chia tập dữ liệu thành 2 tập (Age <= 26 và Age > 26)\n",
    "group_0 = df[df['Age'] <= 26]['Raise Salary']\n",
    "group_1 = df[df['Age'] > 26]['Raise Salary']\n",
    "\n",
    "# Bước 2: Tính Gini cho từng tập\n",
    "gini_0 = gini(group_0)\n",
    "gini_1 = gini(group_1)\n",
    "\n",
    "# Bước 3: Tính Gini cho thuộc tính Age\n",
    "gini_age = (len(group_0) / len(df)) * gini_0 + (len(group_1) / len(df)) * gini_1\n",
    "print(f'Gini of Age: {gini_age}')"
   ]
  },
  {
   "cell_type": "markdown",
   "metadata": {},
   "source": [
    "#### Câu hỏi 5 Tính giá trị Entropy của các sample trong cột nhãn D = ‘Raise Salary’?"
   ]
  },
  {
   "cell_type": "code",
   "execution_count": 14,
   "metadata": {},
   "outputs": [
    {
     "name": "stdout",
     "output_type": "stream",
     "text": [
      "Entropy of Raise Salary: 0.9709505944546686\n"
     ]
    }
   ],
   "source": [
    "entropy_val = entropy(df['Raise Salary'])\n",
    "print(f'Entropy of Raise Salary: {entropy_val}')"
   ]
  },
  {
   "cell_type": "markdown",
   "metadata": {},
   "source": [
    "#### Câu hỏi 6 Tính Gain của bộ dữ liệu khi thuộc tính ‘Likes English’ được chọn là node gốc?"
   ]
  },
  {
   "cell_type": "code",
   "execution_count": 20,
   "metadata": {},
   "outputs": [
    {
     "name": "stdout",
     "output_type": "stream",
     "text": [
      "Information Gain of Likes English: 0.04902249956730631\n"
     ]
    }
   ],
   "source": [
    "def information_gain(df, split_attribute_name):\n",
    "    # Chia tập dữ liệu thành các nhóm dựa trên thuộc tính\n",
    "    values, counts = np.unique(df[split_attribute_name], return_counts=True)\n",
    "\n",
    "    # Tính entropy của D1, D2, ...\n",
    "    weighted_entropy = 0\n",
    "    for value in values:\n",
    "        group = df[df[split_attribute_name] == value]['Raise Salary']\n",
    "        weighted_entropy += len(group) / len(df) * entropy(group)\n",
    "\n",
    "    # Tính entropy của thuộc tính chia\n",
    "    information_gain = 1 - weighted_entropy\n",
    "\n",
    "    return information_gain\n",
    "\n",
    "split_attribute_name = 'Likes English'\n",
    "print(f'Information Gain of {split_attribute_name}: {information_gain(df, split_attribute_name)}')\n"
   ]
  },
  {
   "cell_type": "markdown",
   "metadata": {},
   "source": [
    "#### Câu hỏi 7 Dòng lệnh nào sau đây để tải về bộ dữ liệu Iris từ thư viện ‘sklearn’ là?"
   ]
  },
  {
   "cell_type": "code",
   "execution_count": null,
   "metadata": {},
   "outputs": [],
   "source": [
    "iris_X, iris_y = datasets.load_iris(return_X_y=True)"
   ]
  },
  {
   "cell_type": "markdown",
   "metadata": {},
   "source": [
    "#### Câu hỏi 8 Sắp xếp các đoạn code phân loại trên bộ dữ liệu Iris dựa vào Decision Tree:"
   ]
  },
  {
   "cell_type": "code",
   "execution_count": 23,
   "metadata": {},
   "outputs": [
    {
     "name": "stdout",
     "output_type": "stream",
     "text": [
      "Accuracy: 0.0\n"
     ]
    }
   ],
   "source": [
    "from sklearn import datasets\n",
    "from sklearn.model_selection import train_test_split\n",
    "from sklearn.metrics import accuracy_score\n",
    "from sklearn.tree import DecisionTreeClassifier\n",
    "\n",
    "# Load the diabetes dataset\n",
    "diabetes_X, diabetes_y = datasets.load_diabetes(return_X_y=True)\n",
    "\n",
    "# Split train:test = 8:2\n",
    "X_train, X_test, y_train, y_test = train_test_split(\n",
    "    diabetes_X, \n",
    "    diabetes_y, \n",
    "    test_size=0.2, \n",
    "    random_state=42\n",
    "    )\n",
    "\n",
    "# Define the model\n",
    "dt_classifier = DecisionTreeClassifier()\n",
    "\n",
    "# Train\n",
    "dt_classifier.fit(X_train, y_train)\n",
    "\n",
    "# Predict and evaluate\n",
    "y_pred = dt_classifier.predict(X_test)\n",
    "accuracy = accuracy_score(y_test, y_pred)\n",
    "print(f'Accuracy: {accuracy}')"
   ]
  }
 ],
 "metadata": {
  "kernelspec": {
   "display_name": "ts",
   "language": "python",
   "name": "python3"
  },
  "language_info": {
   "codemirror_mode": {
    "name": "ipython",
    "version": 3
   },
   "file_extension": ".py",
   "mimetype": "text/x-python",
   "name": "python",
   "nbconvert_exporter": "python",
   "pygments_lexer": "ipython3",
   "version": "3.9.18"
  }
 },
 "nbformat": 4,
 "nbformat_minor": 2
}
