{
 "cells": [
  {
   "cell_type": "code",
   "execution_count": 8,
   "metadata": {},
   "outputs": [
    {
     "data": {
      "text/html": [
       "<div>\n",
       "<style scoped>\n",
       "    .dataframe tbody tr th:only-of-type {\n",
       "        vertical-align: middle;\n",
       "    }\n",
       "\n",
       "    .dataframe tbody tr th {\n",
       "        vertical-align: top;\n",
       "    }\n",
       "\n",
       "    .dataframe thead th {\n",
       "        text-align: right;\n",
       "    }\n",
       "</style>\n",
       "<table border=\"1\" class=\"dataframe\">\n",
       "  <thead>\n",
       "    <tr style=\"text-align: right;\">\n",
       "      <th></th>\n",
       "      <th>Age</th>\n",
       "      <th>Likes English</th>\n",
       "      <th>Likes AI</th>\n",
       "      <th>Salary</th>\n",
       "    </tr>\n",
       "  </thead>\n",
       "  <tbody>\n",
       "    <tr>\n",
       "      <th>0</th>\n",
       "      <td>23</td>\n",
       "      <td>0</td>\n",
       "      <td>0</td>\n",
       "      <td>200</td>\n",
       "    </tr>\n",
       "    <tr>\n",
       "      <th>1</th>\n",
       "      <td>25</td>\n",
       "      <td>1</td>\n",
       "      <td>1</td>\n",
       "      <td>400</td>\n",
       "    </tr>\n",
       "    <tr>\n",
       "      <th>2</th>\n",
       "      <td>27</td>\n",
       "      <td>1</td>\n",
       "      <td>0</td>\n",
       "      <td>300</td>\n",
       "    </tr>\n",
       "    <tr>\n",
       "      <th>3</th>\n",
       "      <td>29</td>\n",
       "      <td>0</td>\n",
       "      <td>1</td>\n",
       "      <td>500</td>\n",
       "    </tr>\n",
       "    <tr>\n",
       "      <th>4</th>\n",
       "      <td>29</td>\n",
       "      <td>0</td>\n",
       "      <td>0</td>\n",
       "      <td>400</td>\n",
       "    </tr>\n",
       "  </tbody>\n",
       "</table>\n",
       "</div>"
      ],
      "text/plain": [
       "   Age  Likes English  Likes AI  Salary\n",
       "0   23              0         0     200\n",
       "1   25              1         1     400\n",
       "2   27              1         0     300\n",
       "3   29              0         1     500\n",
       "4   29              0         0     400"
      ]
     },
     "execution_count": 8,
     "metadata": {},
     "output_type": "execute_result"
    }
   ],
   "source": [
    "import numpy as np\n",
    "import pandas as pd\n",
    "\n",
    "data = {\n",
    "    'Age': [23, 25, 27, 29, 29],\n",
    "    'Likes English': [0, 1, 1, 0, 0],\n",
    "    'Likes AI': [0, 1, 0, 1, 0],\n",
    "    'Salary': [200, 400, 300, 500, 400]\n",
    "}\n",
    "\n",
    "df = pd.DataFrame(data)\n",
    "df"
   ]
  },
  {
   "cell_type": "markdown",
   "metadata": {},
   "source": [
    "#### Câu hỏi 9 Tính SSE của bộ dữ liệu khi thuộc tính ‘Likes AI’ được chọn là node gốc?"
   ]
  },
  {
   "cell_type": "code",
   "execution_count": 16,
   "metadata": {},
   "outputs": [
    {
     "name": "stdout",
     "output_type": "stream",
     "text": [
      "SSE for 'Likes AI' as root: 9166.666666666666\n"
     ]
    }
   ],
   "source": [
    "def sse(group, target_col):\n",
    "    mean_value = group[target_col].mean()\n",
    "    return (1/len(group)*(group[target_col] - mean_value) ** 2).sum()\n",
    "\n",
    "# Chia tâp dữ liệu thành 2 nhóm dựa trên cột 'Likes AI'\n",
    "group_0 = df[df['Likes AI'] == 0]\n",
    "group_1 = df[df['Likes AI'] == 1]\n",
    "\n",
    "# Tính SSE cho từng nhóm\n",
    "sse_group_0 = sse(group_0, 'Salary')\n",
    "sse_group_1 = sse(group_1, 'Salary')\n",
    "\n",
    "# Tính tổng SSE\n",
    "sse_total_likes_ai = (sse_group_0 + sse_group_1)\n",
    "\n",
    "print(f\"SSE for 'Likes AI' as root: {sse_total_likes_ai}\")"
   ]
  },
  {
   "cell_type": "markdown",
   "metadata": {},
   "source": [
    "#### Câu hỏi 10 Tính SSE của bộ dữ liệu khi thuộc tính ‘Age’ được chọn là node gốc với điều kiện phân chia thành tập D1 và D2 là ‘Age <= 24’?"
   ]
  },
  {
   "cell_type": "code",
   "execution_count": 19,
   "metadata": {},
   "outputs": [
    {
     "name": "stdout",
     "output_type": "stream",
     "text": [
      "SSE for 'Age' <= 24 = 5000.0\n"
     ]
    }
   ],
   "source": [
    "# Chia tập dữ liệu thành tập D1 và D2 là 'Age <= 24'\n",
    "group_0 = df[df['Age'] <= 24]\n",
    "group_1 = df[df['Age'] > 24]\n",
    "\n",
    "# Tính SSE cho từng nhóm\n",
    "sse_group_0 = sse(group_0, 'Salary')\n",
    "sse_group_1 = sse(group_1, 'Salary')\n",
    "\n",
    "# Tính tổng SSE\n",
    "sse_total_age = (sse_group_0 + sse_group_1)\n",
    "\n",
    "print(f\"SSE for 'Age' <= 24 = {sse_total_age}\")"
   ]
  },
  {
   "cell_type": "markdown",
   "metadata": {},
   "source": [
    "#### Câu hỏi 11 Sắp xếp các đoạn code phân loại trên bộ dữ liệu CPU Machine dựa vào Decision Tree Regressor:"
   ]
  },
  {
   "cell_type": "code",
   "execution_count": 20,
   "metadata": {},
   "outputs": [
    {
     "name": "stderr",
     "output_type": "stream",
     "text": [
      "c:\\Users\\quanb\\anaconda3\\envs\\ts\\lib\\site-packages\\sklearn\\datasets\\_openml.py:322: UserWarning: Multiple active versions of the dataset matching the name machine_cpu exist. Versions may be fundamentally different, returning version 1. Available versions:\n",
      "- version 1, status: active\n",
      "  url: https://www.openml.org/search?type=data&id=230\n",
      "- version 2, status: active\n",
      "  url: https://www.openml.org/search?type=data&id=733\n",
      "\n",
      "  warn(warning_msg)\n"
     ]
    },
    {
     "data": {
      "text/plain": [
       "9061.815476190477"
      ]
     },
     "execution_count": 20,
     "metadata": {},
     "output_type": "execute_result"
    }
   ],
   "source": [
    "from sklearn.datasets import fetch_openml\n",
    "from sklearn.model_selection import train_test_split\n",
    "from sklearn.metrics import mean_squared_error\n",
    "from sklearn.tree import DecisionTreeRegressor\n",
    "\n",
    "# Load dataset\n",
    "machine_cpu = fetch_openml(name='machine_cpu')\n",
    "machine_data = machine_cpu.data\n",
    "machine_Labels = machine_cpu.target\n",
    "\n",
    "# Split train:test = 8:2\n",
    "X_train, X_test, y_train, y_test = train_test_split(\n",
    "    machine_data, \n",
    "    machine_Labels, \n",
    "    test_size=0.2, \n",
    "    random_state=42)\n",
    "\n",
    "# Define model\n",
    "tree_reg = DecisionTreeRegressor()\n",
    "\n",
    "# Train\n",
    "tree_reg.fit(X_train, y_train)\n",
    "\n",
    "# Predict and evaluate\n",
    "y_pred = tree_reg.predict(X_test)\n",
    "mean_squared_error(y_test, y_pred)"
   ]
  }
 ],
 "metadata": {
  "kernelspec": {
   "display_name": "ts",
   "language": "python",
   "name": "python3"
  },
  "language_info": {
   "codemirror_mode": {
    "name": "ipython",
    "version": 3
   },
   "file_extension": ".py",
   "mimetype": "text/x-python",
   "name": "python",
   "nbconvert_exporter": "python",
   "pygments_lexer": "ipython3",
   "version": "3.9.18"
  }
 },
 "nbformat": 4,
 "nbformat_minor": 2
}
