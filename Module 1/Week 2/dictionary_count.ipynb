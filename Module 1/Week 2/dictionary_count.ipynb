{
 "cells": [
  {
   "cell_type": "code",
   "execution_count": 2,
   "metadata": {},
   "outputs": [
    {
     "name": "stdout",
     "output_type": "stream",
     "text": [
      "Looking in indexes: https://pypi.org/simple, https://pypi.ngc.nvidia.com\n",
      "Collecting gdown\n",
      "  Downloading gdown-5.2.0-py3-none-any.whl.metadata (5.8 kB)\n",
      "Requirement already satisfied: beautifulsoup4 in c:\\users\\quanb\\anaconda3\\envs\\ts\\lib\\site-packages (from gdown) (4.12.3)\n",
      "Requirement already satisfied: filelock in c:\\users\\quanb\\anaconda3\\envs\\ts\\lib\\site-packages (from gdown) (3.9.0)\n",
      "Requirement already satisfied: requests[socks] in c:\\users\\quanb\\anaconda3\\envs\\ts\\lib\\site-packages (from gdown) (2.31.0)\n",
      "Requirement already satisfied: tqdm in c:\\users\\quanb\\anaconda3\\envs\\ts\\lib\\site-packages (from gdown) (4.66.1)\n",
      "Requirement already satisfied: soupsieve>1.2 in c:\\users\\quanb\\anaconda3\\envs\\ts\\lib\\site-packages (from beautifulsoup4->gdown) (2.5)\n",
      "Requirement already satisfied: charset-normalizer<4,>=2 in c:\\users\\quanb\\anaconda3\\envs\\ts\\lib\\site-packages (from requests[socks]->gdown) (3.3.2)\n",
      "Requirement already satisfied: idna<4,>=2.5 in c:\\users\\quanb\\anaconda3\\envs\\ts\\lib\\site-packages (from requests[socks]->gdown) (2.10)\n",
      "Requirement already satisfied: urllib3<3,>=1.21.1 in c:\\users\\quanb\\anaconda3\\envs\\ts\\lib\\site-packages (from requests[socks]->gdown) (2.1.0)\n",
      "Requirement already satisfied: certifi>=2017.4.17 in c:\\users\\quanb\\anaconda3\\envs\\ts\\lib\\site-packages (from requests[socks]->gdown) (2023.7.22)\n",
      "Requirement already satisfied: PySocks!=1.5.7,>=1.5.6 in c:\\users\\quanb\\anaconda3\\envs\\ts\\lib\\site-packages (from requests[socks]->gdown) (1.7.1)\n",
      "Requirement already satisfied: colorama in c:\\users\\quanb\\anaconda3\\envs\\ts\\lib\\site-packages (from tqdm->gdown) (0.4.6)\n",
      "Downloading gdown-5.2.0-py3-none-any.whl (18 kB)\n",
      "Installing collected packages: gdown\n",
      "Successfully installed gdown-5.2.0\n"
     ]
    }
   ],
   "source": [
    "! pip install gdown"
   ]
  },
  {
   "cell_type": "code",
   "execution_count": 4,
   "metadata": {},
   "outputs": [
    {
     "name": "stderr",
     "output_type": "stream",
     "text": [
      "Downloading...\n",
      "From: https://drive.google.com/uc?id=1IBScGdW2xlNsc9v5zSAya548kNgiOrko\n",
      "To: d:\\C\\vscode\\AIO2024-EXERCISES\\Module 1\\Week 2\\P1_data.txt\n",
      "\n",
      "  0%|          | 0.00/747 [00:00<?, ?B/s]\n",
      "100%|██████████| 747/747 [00:00<00:00, 496kB/s]\n"
     ]
    }
   ],
   "source": [
    "! gdown https://drive.google.com/uc?id=1IBScGdW2xlNsc9v5zSAya548kNgiOrko"
   ]
  },
  {
   "cell_type": "code",
   "execution_count": 2,
   "metadata": {},
   "outputs": [],
   "source": [
    "def word_count(file_path):\n",
    "    result = {}\n",
    "    with open(file_path, 'r') as file:\n",
    "        text = file.read().lower()\n",
    "        words = text.split()\n",
    "        for word in words:\n",
    "            if word in result:\n",
    "                result[word] += 1\n",
    "            else:\n",
    "                result[word] = 1\n",
    "\n",
    "    return result\n"
   ]
  },
  {
   "cell_type": "code",
   "execution_count": 3,
   "metadata": {},
   "outputs": [
    {
     "data": {
      "text/plain": [
       "{'he': 1,\n",
       " 'who': 3,\n",
       " 'conquers': 1,\n",
       " 'himself': 1,\n",
       " 'is': 3,\n",
       " 'the': 5,\n",
       " 'mightiest': 1,\n",
       " 'warrior': 1,\n",
       " 'try': 2,\n",
       " 'not': 1,\n",
       " 'to': 3,\n",
       " 'become': 2,\n",
       " 'a': 7,\n",
       " 'man': 6,\n",
       " 'of': 4,\n",
       " 'success': 3,\n",
       " 'but': 1,\n",
       " 'rather': 1,\n",
       " 'value': 1,\n",
       " 'one': 4,\n",
       " 'with': 4,\n",
       " 'courage': 1,\n",
       " 'makes': 1,\n",
       " 'majority': 1,\n",
       " 'secret': 1,\n",
       " 'in': 4,\n",
       " 'life': 2,\n",
       " 'for': 3,\n",
       " 'be': 1,\n",
       " 'ready': 1,\n",
       " 'his': 2,\n",
       " 'opportunity': 1,\n",
       " 'when': 2,\n",
       " 'it': 2,\n",
       " 'comes': 2,\n",
       " 'successful': 2,\n",
       " 'will': 2,\n",
       " 'profit': 1,\n",
       " 'from': 1,\n",
       " 'mistakes': 1,\n",
       " 'and': 1,\n",
       " 'again': 1,\n",
       " 'different': 1,\n",
       " 'way': 1,\n",
       " 'can': 3,\n",
       " 'lay': 1,\n",
       " 'firm': 1,\n",
       " 'foundation': 1,\n",
       " 'bricks': 1,\n",
       " 'others': 1,\n",
       " 'have': 1,\n",
       " 'thrown': 1,\n",
       " 'at': 1,\n",
       " 'him': 1,\n",
       " 'usually': 1,\n",
       " 'those': 1,\n",
       " 'are': 1,\n",
       " 'too': 1,\n",
       " 'busy': 1,\n",
       " 'looking': 1,\n",
       " 'we': 3,\n",
       " 'cannot': 1,\n",
       " 'solve': 1,\n",
       " 'problems': 1,\n",
       " 'kind': 1,\n",
       " 'thinking': 1,\n",
       " 'employed': 1,\n",
       " 'came': 1,\n",
       " 'up': 1,\n",
       " 'them': 1,\n",
       " 'just': 2,\n",
       " 'small': 1,\n",
       " 'positive': 1,\n",
       " 'thought': 1,\n",
       " 'morning': 1,\n",
       " 'change': 1,\n",
       " 'your': 1,\n",
       " 'whole': 1,\n",
       " 'day': 1,\n",
       " 'you': 3,\n",
       " 'get': 2,\n",
       " 'everything': 1,\n",
       " 'want': 2,\n",
       " 'if': 1,\n",
       " 'help': 1,\n",
       " 'enough': 1,\n",
       " 'other': 1,\n",
       " 'people': 1,\n",
       " 'what': 1,\n",
       " 'they': 1}"
      ]
     },
     "execution_count": 3,
     "metadata": {},
     "output_type": "execute_result"
    }
   ],
   "source": [
    "file_path = 'P1_data.txt'\n",
    "word_count(file_path)"
   ]
  },
  {
   "cell_type": "code",
   "execution_count": 4,
   "metadata": {},
   "outputs": [
    {
     "name": "stdout",
     "output_type": "stream",
     "text": [
      "6\n"
     ]
    }
   ],
   "source": [
    "result = word_count(file_path)\n",
    "print ( result ['man'])"
   ]
  }
 ],
 "metadata": {
  "kernelspec": {
   "display_name": "ts",
   "language": "python",
   "name": "python3"
  },
  "language_info": {
   "codemirror_mode": {
    "name": "ipython",
    "version": 3
   },
   "file_extension": ".py",
   "mimetype": "text/x-python",
   "name": "python",
   "nbconvert_exporter": "python",
   "pygments_lexer": "ipython3",
   "version": "3.9.18"
  }
 },
 "nbformat": 4,
 "nbformat_minor": 2
}
