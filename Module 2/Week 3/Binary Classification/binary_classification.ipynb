{
 "cells": [
  {
   "cell_type": "code",
   "execution_count": 2,
   "metadata": {},
   "outputs": [
    {
     "name": "stdout",
     "output_type": "stream",
     "text": [
      "[['Sunny' 'Hot' 'High' 'Weak' 'no']\n",
      " ['Sunny' 'Hot' 'High' 'Strong' 'no']\n",
      " ['Overcast' 'Hot' 'High' 'Weak' 'yes']\n",
      " ['Rain' 'Mild' 'High' 'Weak' 'yes']\n",
      " ['Rain' 'Cool' 'Normal' 'Weak' 'yes']\n",
      " ['Rain' 'Cool' 'Normal' 'Strong' 'no']\n",
      " ['Overcast' 'Cool' 'Normal' 'Strong' 'yes']\n",
      " ['Overcast' 'Mild' 'High' 'Weak' 'no']\n",
      " ['Sunny' 'Cool' 'Normal' 'Weak' 'yes']\n",
      " ['Rain' 'Mild' 'Normal' 'Weak' 'yes']]\n"
     ]
    }
   ],
   "source": [
    "# Create data\n",
    "\n",
    "import numpy as np\n",
    "\n",
    "def create_data():\n",
    "\n",
    "    data=[['Sunny','Hot', 'High', 'Weak', 'no'],\n",
    "        ['Sunny','Hot', 'High', 'Strong', 'no'],\n",
    "        ['Overcast','Hot', 'High', 'Weak', 'yes'],\n",
    "        ['Rain','Mild', 'High', 'Weak', 'yes'],\n",
    "        ['Rain','Cool', 'Normal', 'Weak', 'yes'],\n",
    "        ['Rain','Cool', 'Normal', 'Strong', 'no'],\n",
    "        ['Overcast','Cool', 'Normal', 'Strong', 'yes'],\n",
    "        ['Overcast','Mild', 'High', 'Weak', 'no'],\n",
    "        ['Sunny','Cool', 'Normal', 'Weak', 'yes'],\n",
    "        ['Rain','Mild', 'Normal', 'Weak', 'yes']\n",
    "        ]\n",
    "    return np.array(data)\n",
    "\n",
    "\n",
    "data = create_data()\n",
    "print(data)"
   ]
  },
  {
   "cell_type": "code",
   "execution_count": 3,
   "metadata": {},
   "outputs": [
    {
     "name": "stdout",
     "output_type": "stream",
     "text": [
      "P(Play Tennis = Yes) =  0.6\n",
      "P(Play Tennis = No) =  0.4\n"
     ]
    }
   ],
   "source": [
    "# Xác suất xảy ra sự kiện \"Play Tennis\"=\"Yes\" và sự kiện \"Play Tennis\"=\"No\" lần lượt là:\n",
    "\n",
    "def prob(data):\n",
    "    y_i = ['yes', 'no']\n",
    "    prior_prob = np.zeros(len(y_i))\n",
    "    for i in range(len(y_i)):\n",
    "        prior_prob[i] = len(np.where(data[:,4] == y_i[i])[0])/len(data)\n",
    "\n",
    "    return prior_prob\n",
    "\n",
    "prior_prob = prob(data)\n",
    "print(\"P(Play Tennis = Yes) = \", prior_prob[0])\n",
    "print(\"P(Play Tennis = No) = \", prior_prob[1])\n"
   ]
  },
  {
   "cell_type": "code",
   "execution_count": 4,
   "metadata": {},
   "outputs": [
    {
     "name": "stdout",
     "output_type": "stream",
     "text": [
      "x_unique ['Overcast' 'Rain' 'Sunny']\n",
      "x_unique ['Cool' 'Hot' 'Mild']\n",
      "x_unique ['High' 'Normal']\n",
      "x_unique ['Strong' 'Weak']\n",
      "x1 =  ['Overcast' 'Rain' 'Sunny']\n",
      "x2 =  ['Cool' 'Hot' 'Mild']\n",
      "x3 =  ['High' 'Normal']\n",
      "x4 =  ['Strong' 'Weak']\n"
     ]
    }
   ],
   "source": [
    "def compute_conditional_probability(train_data):\n",
    "  y_unique = ['no', 'yes']\n",
    "  conditional_probability = []\n",
    "  list_x_name = []\n",
    "  for i in range(0,train_data.shape[1]-1):\n",
    "    x_unique = np.unique(train_data[:,i])\n",
    "    print(\"x_unique\", x_unique)\n",
    "\n",
    "    list_x_name.append(x_unique)\n",
    "\n",
    "    x_conditional_probability = np.zeros((len(y_unique),len(x_unique)))\n",
    "    for j in range(0,len(y_unique)):\n",
    "      for k in range(0,len(x_unique)):\n",
    "        x_conditional_probability[j,k]= len(np.where((train_data[:,i] == x_unique[k]) & (train_data[:,4] == y_unique[j]))[0])/len(np.where(train_data[:,4] == y_unique[j])[0])\n",
    "\n",
    "    conditional_probability.append(x_conditional_probability)\n",
    "  return conditional_probability, list_x_name\n",
    "\n",
    "_, list_x = compute_conditional_probability(data)\n",
    "print(\"x1 = \",list_x[0])\n",
    "print(\"x2 = \",list_x[1])\n",
    "print(\"x3 = \",list_x[2])\n",
    "print(\"x4 = \",list_x[3])"
   ]
  },
  {
   "cell_type": "code",
   "execution_count": 5,
   "metadata": {},
   "outputs": [
    {
     "name": "stdout",
     "output_type": "stream",
     "text": [
      "x_unique ['Overcast' 'Rain' 'Sunny']\n",
      "x_unique ['Cool' 'Hot' 'Mild']\n",
      "x_unique ['High' 'Normal']\n",
      "x_unique ['Strong' 'Weak']\n"
     ]
    }
   ],
   "source": [
    "# Train Naive Bayes Model\n",
    "\n",
    "def train(data):\n",
    "\n",
    "    prior_prob = prob(data)\n",
    "\n",
    "    cond_prob, list_x = compute_conditional_probability(data)\n",
    "\n",
    "    return prior_prob, cond_prob, list_x\n",
    "\n",
    "prior_prob, con_prob, list_x = train(data)"
   ]
  },
  {
   "cell_type": "code",
   "execution_count": 6,
   "metadata": {},
   "outputs": [],
   "source": [
    "def get_index(f_name, l_feature):\n",
    "    return np.where(l_feature == f_name)[0][0]"
   ]
  },
  {
   "cell_type": "code",
   "execution_count": 7,
   "metadata": {},
   "outputs": [
    {
     "name": "stdout",
     "output_type": "stream",
     "text": [
      "x_unique ['Overcast' 'Rain' 'Sunny']\n",
      "x_unique ['Cool' 'Hot' 'Mild']\n",
      "x_unique ['High' 'Normal']\n",
      "x_unique ['Strong' 'Weak']\n",
      "0 1 2\n"
     ]
    }
   ],
   "source": [
    "_, list_x = compute_conditional_probability(data)\n",
    "outlook = list_x[0]\n",
    "i1 = get_index('Overcast', outlook)\n",
    "i2 = get_index('Rain', outlook)\n",
    "i3 = get_index('Sunny', outlook)\n",
    "\n",
    "print(i1, i2, i3)"
   ]
  },
  {
   "cell_type": "code",
   "execution_count": 8,
   "metadata": {},
   "outputs": [
    {
     "name": "stdout",
     "output_type": "stream",
     "text": [
      "x_unique ['Overcast' 'Rain' 'Sunny']\n",
      "x_unique ['Cool' 'Hot' 'Mild']\n",
      "x_unique ['High' 'Normal']\n",
      "x_unique ['Strong' 'Weak']\n",
      "P(Outlook = Sunny | Play Tennis = Yes) =  0.17\n"
     ]
    }
   ],
   "source": [
    "ity, list_x = compute_conditional_probability(data)\n",
    "\n",
    "x1 = get_index('Sunny', list_x[0])\n",
    "print(\"P(Outlook = Sunny | Play Tennis = Yes) = \",  np.round(con_prob[0][1, x1],2))"
   ]
  },
  {
   "cell_type": "code",
   "execution_count": 9,
   "metadata": {},
   "outputs": [
    {
     "name": "stdout",
     "output_type": "stream",
     "text": [
      "P(Outlook = Sunny | Play Tennis = No) =  0.5\n"
     ]
    }
   ],
   "source": [
    "print(\"P(Outlook = Sunny | Play Tennis = No) = \",  np.round(con_prob[0][0, x1],2))"
   ]
  },
  {
   "cell_type": "code",
   "execution_count": 10,
   "metadata": {},
   "outputs": [],
   "source": [
    "# Prediction\n",
    "\n",
    "def predict(X, list_x, prior_prob, con_prob):\n",
    "\n",
    "    x1 = get_index(X[0], list_x[0])\n",
    "    x2 = get_index(X[1], list_x[1])\n",
    "    x3 = get_index(X[2], list_x[2])\n",
    "    x4 = get_index(X[3], list_x[3])\n",
    "\n",
    "    p0 = prior_prob[0] \\\n",
    "        *con_prob[0][0, x1] \\\n",
    "        *con_prob[1][0, x2] \\\n",
    "        *con_prob[2][0, x3] \\\n",
    "        *con_prob[3][0, x4]\n",
    "\n",
    "    p1 = prior_prob[1] \\\n",
    "        *con_prob[0][1, x1] \\\n",
    "        *con_prob[1][1, x2] \\\n",
    "        *con_prob[2][1, x3] \\\n",
    "        *con_prob[3][1, x4]\n",
    "\n",
    "    if p0 > p1:\n",
    "        y_pred = 0\n",
    "\n",
    "    else:\n",
    "        y_pred = 1\n",
    "\n",
    "    return y_pred"
   ]
  },
  {
   "cell_type": "code",
   "execution_count": 11,
   "metadata": {},
   "outputs": [
    {
     "name": "stdout",
     "output_type": "stream",
     "text": [
      "x_unique ['Overcast' 'Rain' 'Sunny']\n",
      "x_unique ['Cool' 'Hot' 'Mild']\n",
      "x_unique ['High' 'Normal']\n",
      "x_unique ['Strong' 'Weak']\n",
      "Ad should not go!\n"
     ]
    }
   ],
   "source": [
    "X = ['Sunny','Cool', 'High', 'Strong']\n",
    "prior_prob, con_prob, list_x = train(data)\n",
    "pred = predict(X, list_x, prior_prob, con_prob)\n",
    "\n",
    "if(pred):\n",
    "  print(\"Ad should go!\")\n",
    "else:\n",
    "  print(\"Ad should not go!\")"
   ]
  },
  {
   "cell_type": "markdown",
   "metadata": {},
   "source": []
  },
  {
   "cell_type": "code",
   "execution_count": 12,
   "metadata": {},
   "outputs": [],
   "source": [
    "from sklearn import datasets\n",
    "\n",
    "def create_data_iris():\n",
    "    data = np.loadtxt(\"iris.data.txt\", delimiter=',', dtype=str)\n",
    "    return data"
   ]
  },
  {
   "cell_type": "code",
   "execution_count": 13,
   "metadata": {},
   "outputs": [],
   "source": [
    "def prior_proba(data):\n",
    "    y_i = np.unique(data[:,4])\n",
    "    prior_prob = np.zeros(len(y_i))\n",
    "    for i in range(0, len(y_i)):\n",
    "        prior_prob[i] = len(np.where(data[:,4] == y_i[i])[0])/len(data)\n",
    "\n",
    "    return prior_prob"
   ]
  },
  {
   "cell_type": "code",
   "execution_count": 14,
   "metadata": {},
   "outputs": [],
   "source": [
    "def cond_proba_iris(data):\n",
    "    y_i = np.unique(data[:,4])\n",
    "    x_f = 4\n",
    "    cond_prob = []\n",
    "    list_x = []\n",
    "    for i in range(0, data.shape[1]-1):\n",
    "        x_cond_prob = np.zeros((len(y_i),2))\n",
    "        for j in range(0, len(y_i)):\n",
    "            mean = np.mean(data[np.where(data[:,4] == y_i[j])][:,i].astype(float))\n",
    "            sigma = np.std(data[np.where(data[:,4] == y_i[j])][:,i].astype(float))\n",
    "            sigma = sigma * sigma\n",
    "            x_cond_prob[j] = [mean, sigma]\n",
    "\n",
    "        cond_prob.append(x_cond_prob)\n",
    "\n",
    "    return cond_prob"
   ]
  },
  {
   "cell_type": "code",
   "execution_count": 15,
   "metadata": {},
   "outputs": [],
   "source": [
    "import math\n",
    "def gauss(x, mean, sigma):\n",
    "    return (1/ (np.sqrt(2 * math.pi) * sigma)) * np.exp(-((x - mean) ** 2) / (2 * sigma ** 2))\n"
   ]
  },
  {
   "cell_type": "code",
   "execution_count": 16,
   "metadata": {},
   "outputs": [],
   "source": [
    "def train_gaussian(data):\n",
    "    prior_prob = prior_proba(data)\n",
    "\n",
    "    cond_prob = cond_proba_iris(data)\n",
    "\n",
    "    return prior_prob, cond_prob"
   ]
  },
  {
   "cell_type": "code",
   "execution_count": 17,
   "metadata": {},
   "outputs": [],
   "source": [
    "data = create_data_iris()\n",
    "conditional_probability = train_gaussian(data)"
   ]
  },
  {
   "cell_type": "code",
   "execution_count": 18,
   "metadata": {},
   "outputs": [],
   "source": [
    "def prediction_iris(X,  prior_probability, conditional_probability):\n",
    "\n",
    "    p0=prior_probability[0] \\\n",
    "    *gauss(X[0], conditional_probability[0][0][0],conditional_probability[0][0][1])  \\\n",
    "    *gauss(X[1], conditional_probability[1][0][0],conditional_probability[1][0][1])  \\\n",
    "    *gauss(X[2], conditional_probability[2][0][0],conditional_probability[2][0][1])  \\\n",
    "    *gauss(X[3], conditional_probability[3][0][0],conditional_probability[3][0][1])\n",
    "\n",
    "    p1=prior_probability[1] \\\n",
    "    *gauss(X[0], conditional_probability[0][1][0],conditional_probability[0][1][1])  \\\n",
    "    *gauss(X[1], conditional_probability[1][1][0],conditional_probability[1][1][1])  \\\n",
    "    *gauss(X[2], conditional_probability[2][1][0],conditional_probability[2][1][1])  \\\n",
    "    *gauss(X[3], conditional_probability[3][1][0],conditional_probability[3][1][1])\n",
    "\n",
    "    p2=prior_probability[2] \\\n",
    "    *gauss(X[0], conditional_probability[0][2][0],conditional_probability[0][2][1])  \\\n",
    "    *gauss(X[1], conditional_probability[1][2][0],conditional_probability[1][2][1])  \\\n",
    "    *gauss(X[2], conditional_probability[2][2][0],conditional_probability[2][2][1])  \\\n",
    "    *gauss(X[3], conditional_probability[3][2][0],conditional_probability[3][2][1])\n",
    "\n",
    "    # print(p0, p1)\n",
    "\n",
    "    list_p = [p0, p1, p2]\n",
    "\n",
    "    return list_p.index(max(list_p))"
   ]
  },
  {
   "cell_type": "code",
   "execution_count": 19,
   "metadata": {},
   "outputs": [],
   "source": [
    "X = [6.3 , 3.3, 6.0,  2.5]\n",
    "train_data = create_data_iris()\n",
    "y_unique = np.unique(data[:,4])\n",
    "prior_probability, conditional_probability = train_gaussian(train_data)\n",
    "pred = y_unique[prediction_iris(X, prior_probability, conditional_probability)]\n",
    "assert pred == \"Iris-virginica\""
   ]
  },
  {
   "cell_type": "code",
   "execution_count": 20,
   "metadata": {},
   "outputs": [],
   "source": [
    "X = [5.0,2.0,3.5,1.0]\n",
    "train_data = create_data_iris()\n",
    "y_unique = np.unique(data[:,4])\n",
    "prior_probability, conditional_probability = train_gaussian(train_data)\n",
    "pred = y_unique[prediction_iris(X, prior_probability, conditional_probability)]\n",
    "assert pred == \"Iris-versicolor\""
   ]
  },
  {
   "cell_type": "code",
   "execution_count": 21,
   "metadata": {},
   "outputs": [],
   "source": [
    "X = [4.9,3.1,1.5,0.1]\n",
    "train_data = create_data_iris()\n",
    "y_unique = np.unique(data[:,4])\n",
    "prior_probability, conditional_probability = train_gaussian(train_data)\n",
    "pred = y_unique[prediction_iris(X, prior_probability, conditional_probability)]\n",
    "assert pred == \"Iris-setosa\""
   ]
  }
 ],
 "metadata": {
  "kernelspec": {
   "display_name": "ts",
   "language": "python",
   "name": "python3"
  },
  "language_info": {
   "codemirror_mode": {
    "name": "ipython",
    "version": 3
   },
   "file_extension": ".py",
   "mimetype": "text/x-python",
   "name": "python",
   "nbconvert_exporter": "python",
   "pygments_lexer": "ipython3",
   "version": "3.9.18"
  }
 },
 "nbformat": 4,
 "nbformat_minor": 2
}
