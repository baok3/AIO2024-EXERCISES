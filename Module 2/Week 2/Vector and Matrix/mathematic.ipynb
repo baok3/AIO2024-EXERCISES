{
 "cells": [
  {
   "cell_type": "markdown",
   "metadata": {},
   "source": [
    "### Độ dài của vector:"
   ]
  },
  {
   "cell_type": "code",
   "execution_count": 2,
   "metadata": {},
   "outputs": [],
   "source": [
    "import numpy as np\n",
    "def compute_vector_length(vector) :\n",
    "    # *********** Your code here ***********\n",
    "    return np.linalg.norm(vector)"
   ]
  },
  {
   "cell_type": "markdown",
   "metadata": {},
   "source": [
    "### Phép tích vô hướng:"
   ]
  },
  {
   "cell_type": "code",
   "execution_count": 4,
   "metadata": {},
   "outputs": [
    {
     "name": "stdout",
     "output_type": "stream",
     "text": [
      "3.7416573867739413\n",
      "32\n"
     ]
    }
   ],
   "source": [
    "def compute_dot_product(vector1 ,vector2):\n",
    "    # *********** Your code here ***********\n",
    "    return np.dot(vector1,vector2)"
   ]
  },
  {
   "cell_type": "markdown",
   "metadata": {},
   "source": [
    "### Nhân vector với ma trận:"
   ]
  },
  {
   "cell_type": "code",
   "execution_count": 5,
   "metadata": {},
   "outputs": [
    {
     "name": "stdout",
     "output_type": "stream",
     "text": [
      "[14 32 50]\n"
     ]
    }
   ],
   "source": [
    "def matrix_multi_vector(matrix , vector):\n",
    "    # *********** Your code here ***********\n",
    "    return np.dot(matrix,vector)"
   ]
  },
  {
   "cell_type": "markdown",
   "metadata": {},
   "source": [
    "### Nhân ma trận với ma trận:"
   ]
  },
  {
   "cell_type": "code",
   "execution_count": null,
   "metadata": {},
   "outputs": [],
   "source": [
    "def matrix_multi_matrix(matrix1 , matrix2):\n",
    "    # *********** Your code here ***********\n",
    "    return np.dot(matrix1,matrix2)"
   ]
  },
  {
   "cell_type": "markdown",
   "metadata": {},
   "source": [
    "### Ma trận nghịch đảo:"
   ]
  },
  {
   "cell_type": "code",
   "execution_count": null,
   "metadata": {},
   "outputs": [],
   "source": [
    "def inverse_matrix(matrix):\n",
    "    # *********** Your code here ***********\n",
    "    if matrix.shape[0] != matrix.shape[1]:\n",
    "        return \"Matrix is not square\"\n",
    "    else:\n",
    "        return np.linalg.inv(matrix)"
   ]
  }
 ],
 "metadata": {
  "kernelspec": {
   "display_name": "ts",
   "language": "python",
   "name": "python3"
  },
  "language_info": {
   "codemirror_mode": {
    "name": "ipython",
    "version": 3
   },
   "file_extension": ".py",
   "mimetype": "text/x-python",
   "name": "python",
   "nbconvert_exporter": "python",
   "pygments_lexer": "ipython3",
   "version": "3.9.18"
  }
 },
 "nbformat": 4,
 "nbformat_minor": 2
}
