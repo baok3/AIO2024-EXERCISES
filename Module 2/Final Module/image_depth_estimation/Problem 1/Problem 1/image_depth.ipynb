{
 "cells": [
  {
   "cell_type": "code",
   "execution_count": 15,
   "metadata": {},
   "outputs": [
    {
     "name": "stderr",
     "output_type": "stream",
     "text": [
      "Downloading...\n",
      "From: https://drive.google.com/uc?id=14gf8bcym_lTcvjZQmg8kwq3aXkENBxMQ\n",
      "To: d:\\C\\vscode\\AIO2024-EXERCISES\\Module 2\\Final Module\\image_depth_estimation\\tsukuba.zip\n",
      "100%|██████████| 354k/354k [00:00<00:00, 2.62MB/s]\n"
     ]
    }
   ],
   "source": [
    "import gdown\n",
    "import zipfile\n",
    "\n",
    "url = \"https://drive.google.com/uc?id=14gf8bcym_lTcvjZQmg8kwq3aXkENBxMQ\"\n",
    "\n",
    "gdown.download(url=url)\n",
    "\n",
    "with zipfile.ZipFile(\"tsukuba.zip\", \"r\") as zip_ref:\n",
    "    zip_ref.extractall(\"tsukuba\")"
   ]
  },
  {
   "cell_type": "markdown",
   "metadata": {},
   "source": [
    "Problem 1: Xây dựng hàm tính disparity map của hai ảnh stereo đầu vào (ảnh bên trái (L) và\n",
    "ảnh bên phải (R)) theo phương thức pixel-wise matching. Các bước tính toán trong phương\n",
    "pháp này có thể được miêu tả qua các bước dưới đây:\n",
    "1. Đọc ảnh chụp bên trái (left) và ảnh chụp bên phải (right) dưới dạng ảnh grayscale (ảnh\n",
    "mức xám) đồng thời ép kiểu ảnh về np.float32.\n",
    "2. Khởi tạo hai biến height, width có giá trị bằng chiều cao, chiều rộng của ảnh trái.\n",
    "3. Khởi tạo một ma trận không - zero matrix (depth) với kích thước bằng height, width.\n",
    "4. Với mỗi pixel tại vị trí (h, w) (duyệt từ trái qua phải, trên xuống dưới) thực hiện các bước\n",
    "sau:\n",
    "(a) Tính cost (L1 hoặc L2) giữa các cặp pixel left[h, w] và right[h, w - d] (trong đó\n",
    "d ∈ [0, disparity_range]). Nếu (w - d) < 0 thì gán giá trị cost = max_cost (max_cost\n",
    "= 255 nếu dùng L1 hoặc 2552 nếu dùng L2).\n",
    "(b) Với danh sách cost tính được, chọn giá trị d (doptimal) mà ở đó cho giá trị cost là nhỏ\n",
    "nhất.\n",
    "(c) Gán depth[h, w] = doptimal × scale. Trong đó, scale =\n",
    "255\n",
    "disparity_range\n",
    "\n",
    "(Ở Problem 01, các bạn gán mặc định giá trị scale = 16)."
   ]
  },
  {
   "cell_type": "code",
   "execution_count": 19,
   "metadata": {},
   "outputs": [],
   "source": [
    "import cv2\n",
    "import numpy as np"
   ]
  },
  {
   "cell_type": "code",
   "execution_count": null,
   "metadata": {},
   "outputs": [],
   "source": [
    "def l1_distance(x, y):\n",
    "    return abs(x - y)\n",
    "\n",
    "def l2_distance(x, y):\n",
    "    return (x - y) ** 2\n",
    "\n",
    "def pixel_wise_matching_l1(l_img, r_img, dis_range, save_result = True):\n",
    "\n",
    "    lef = cv2.imread(l_img, 0)\n",
    "    rig = cv2.imread(r_img, 0)\n",
    "\n",
    "    left = lef.astype(np.float32)\n",
    "    right = rig.astype(np.float32)\n",
    "\n",
    "    height, width = left.shape[:2]\n",
    "\n",
    "    depth = np.zeros((height, width), np.uint8)\n",
    "    scale = 16\n",
    "    max_val = 255\n",
    "\n",
    "    for y in range(height):\n",
    "        for x in range(width):\n",
    "            disparity = 0\n",
    "            cost_min = max_val\n",
    "\n",
    "            for j in range(dis_range):\n",
    "                cost = max_val if (x - j) < 0 else l1_distance(int(left[y, x]), int(right[y, x - j]))\n",
    "                if cost < cost_min:\n",
    "                    cost_min = cost\n",
    "                    disparity = j\n",
    "\n",
    "            depth[y, x] = disparity * scale\n",
    "\n",
    "    if save_result == True:\n",
    "        print(\"Saving result...\")\n",
    "\n",
    "        cv2.imwrite(\"pixel_wise_l1.png\", depth)\n",
    "        cv2.imwrite(\"pixel_wise_l1_color.png\", cv2.applyColorMap(depth, cv2.COLORMAP_JET))\n",
    "\n",
    "    print(\"Done!\")\n",
    "\n",
    "    return depth"
   ]
  },
  {
   "cell_type": "code",
   "execution_count": 21,
   "metadata": {},
   "outputs": [],
   "source": [
    "def pixel_wise_matching_l2(l_img, r_img, dis_range, save_result = True):\n",
    "\n",
    "    lef = cv2.imread(l_img, 0)\n",
    "    rig = cv2.imread(r_img, 0)\n",
    "\n",
    "    left = lef.astype(np.float32)\n",
    "    right = rig.astype(np.float32)\n",
    "\n",
    "    height, width = left.shape[:2]\n",
    "\n",
    "    depth = np.zeros((height, width), np.uint8)\n",
    "    scale = 16\n",
    "    max_val = 255 ** 2\n",
    "\n",
    "    for y in range(height):\n",
    "        for x in range(width):\n",
    "            disparity = 0\n",
    "            cost_min = max_val\n",
    "\n",
    "            for j in range(dis_range):\n",
    "                cost = max_val if (x - j) < 0 else l2_distance(int(left[y, x]), int(right[y, x - j]))\n",
    "                \n",
    "                if cost < cost_min:\n",
    "                    cost_min = cost\n",
    "                    disparity = j\n",
    "\n",
    "            depth[y, x] = disparity * scale\n",
    "\n",
    "    if save_result == True:\n",
    "        print(\"Saving result...\")\n",
    "\n",
    "        cv2.imwrite(\"pixel_wise_l2.png\", depth)\n",
    "        cv2.imwrite(\"pixel_wise_l2_color.png\", cv2.applyColorMap(depth, cv2.COLORMAP_JET))\n",
    "\n",
    "    print(\"Done!\")\n",
    "\n",
    "    return depth"
   ]
  },
  {
   "cell_type": "code",
   "execution_count": 22,
   "metadata": {},
   "outputs": [
    {
     "name": "stdout",
     "output_type": "stream",
     "text": [
      "Saving result...\n",
      "Done!\n"
     ]
    }
   ],
   "source": [
    "l_img_path = \"tsukuba/left.png\"\n",
    "r_img_path = \"tsukuba/right.png\"\n",
    "disparity_range = 16\n",
    "\n",
    "pixel_wise_result_l1 = pixel_wise_matching_l1(\n",
    "    l_img_path, \n",
    "    r_img_path, \n",
    "    disparity_range,\n",
    "    save_result = True\n",
    ")"
   ]
  },
  {
   "cell_type": "code",
   "execution_count": 23,
   "metadata": {},
   "outputs": [
    {
     "name": "stdout",
     "output_type": "stream",
     "text": [
      "Saving result...\n",
      "Done!\n"
     ]
    }
   ],
   "source": [
    "pixel_wise_result_l2 = pixel_wise_matching_l2(\n",
    "    l_img_path, \n",
    "    r_img_path, \n",
    "    disparity_range,\n",
    "    save_result = True\n",
    ")"
   ]
  }
 ],
 "metadata": {
  "kernelspec": {
   "display_name": "ts",
   "language": "python",
   "name": "python3"
  },
  "language_info": {
   "codemirror_mode": {
    "name": "ipython",
    "version": 3
   },
   "file_extension": ".py",
   "mimetype": "text/x-python",
   "name": "python",
   "nbconvert_exporter": "python",
   "pygments_lexer": "ipython3",
   "version": "3.9.18"
  }
 },
 "nbformat": 4,
 "nbformat_minor": 2
}
