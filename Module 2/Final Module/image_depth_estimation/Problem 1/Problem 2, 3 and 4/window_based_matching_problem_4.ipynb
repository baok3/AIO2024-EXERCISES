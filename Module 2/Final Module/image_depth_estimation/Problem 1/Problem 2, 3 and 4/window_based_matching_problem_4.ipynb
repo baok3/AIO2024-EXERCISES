{
 "cells": [
  {
   "cell_type": "code",
   "execution_count": 4,
   "metadata": {},
   "outputs": [],
   "source": [
    "import cv2\n",
    "import numpy as np"
   ]
  },
  {
   "cell_type": "code",
   "execution_count": 5,
   "metadata": {},
   "outputs": [],
   "source": [
    "def cosine_similarity(x, y):\n",
    "    numerator = np.dot(x, y)\n",
    "    denominator = np.linalg.norm(x) * np.linalg.norm(y)\n",
    "\n",
    "    return numerator / denominator"
   ]
  },
  {
   "cell_type": "code",
   "execution_count": 9,
   "metadata": {},
   "outputs": [],
   "source": [
    "def window_based_matching_cosine(l_img, r_img, dis_range, kernel_size = 5, save_result = True):\n",
    "\n",
    "    left = cv2.imread(l_img, 0)\n",
    "    right = cv2.imread(r_img, 0)\n",
    "\n",
    "    left = left.astype(np.float32)\n",
    "    right = right.astype(np.float32)\n",
    "\n",
    "    height, width = left.shape[:2]\n",
    "\n",
    "    depth = np.zeros((height, width), np.uint8)\n",
    "    kernel_half = int((kernel_size - 1) / 2)\n",
    "    scale = 3\n",
    "\n",
    "    for y in range(kernel_half, height - kernel_half):\n",
    "        for x in range(kernel_half, width - kernel_half):\n",
    "            disparity = 0\n",
    "            cost_optimal = -1\n",
    "\n",
    "            for j in range(dis_range):\n",
    "                d = x - j\n",
    "                cost = -1\n",
    "                if (d - kernel_half) > 0:\n",
    "                    wp = left[(y - kernel_half):(y + kernel_half + 1), (x - kernel_half):(x + kernel_half + 1)]\n",
    "                    wqd = right[(y - kernel_half):(y + kernel_half + 1), (d - kernel_half):(d + kernel_half + 1)]\n",
    "\n",
    "                    wp_flatten = wp.flatten()\n",
    "                    wqd_flatten = wqd.flatten()\n",
    "\n",
    "                    cost = cosine_similarity(wp_flatten, wqd_flatten)\n",
    "\n",
    "                if cost > cost_optimal:\n",
    "                    cost_optimal = cost\n",
    "                    disparity = j\n",
    "\n",
    "            depth[y, x] = disparity * scale\n",
    "\n",
    "    if save_result == True:\n",
    "        cv2.imwrite('window_based_cosine_similarity.png', depth)\n",
    "        cv2.imwrite('window_based_cosine_similarity_color.png', cv2.applyColorMap(depth, cv2.COLORMAP_JET))\n",
    "\n",
    "    print('Done.')"
   ]
  },
  {
   "cell_type": "code",
   "execution_count": 7,
   "metadata": {},
   "outputs": [],
   "source": [
    "left_img_path = 'Aloe/Aloe_left_1.png'\n",
    "right_img_path = 'Aloe/Aloe_right_2.png'\n",
    "disparity_range = 64\n",
    "kernel_size = 5"
   ]
  },
  {
   "cell_type": "code",
   "execution_count": 11,
   "metadata": {},
   "outputs": [
    {
     "name": "stdout",
     "output_type": "stream",
     "text": [
      "Done.\n"
     ]
    }
   ],
   "source": [
    "depth = window_based_matching_cosine(\n",
    "    left_img_path,\n",
    "    right_img_path,\n",
    "    disparity_range,\n",
    "    kernel_size=kernel_size,\n",
    "    save_result=True\n",
    ")"
   ]
  }
 ],
 "metadata": {
  "kernelspec": {
   "display_name": "ts",
   "language": "python",
   "name": "python3"
  },
  "language_info": {
   "codemirror_mode": {
    "name": "ipython",
    "version": 3
   },
   "file_extension": ".py",
   "mimetype": "text/x-python",
   "name": "python",
   "nbconvert_exporter": "python",
   "pygments_lexer": "ipython3",
   "version": "3.9.18"
  }
 },
 "nbformat": 4,
 "nbformat_minor": 2
}
