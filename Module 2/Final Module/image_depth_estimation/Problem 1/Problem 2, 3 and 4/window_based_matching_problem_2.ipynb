{
 "cells": [
  {
   "cell_type": "code",
   "execution_count": 3,
   "metadata": {},
   "outputs": [
    {
     "name": "stderr",
     "output_type": "stream",
     "text": [
      "Downloading...\n",
      "From: https://drive.google.com/uc?id=1wxmiUdqMciuTOs0ouKEISl8-iTVXdOWn\n",
      "To: d:\\C\\vscode\\AIO2024-EXERCISES\\Module 2\\Final Module\\image_depth_estimation\\Problem 1\\Problem 2, 3 and 4\\Result_problem_2\\Aloe_images.zip\n",
      "100%|██████████| 1.32M/1.32M [00:00<00:00, 5.16MB/s]\n"
     ]
    }
   ],
   "source": [
    "import gdown\n",
    "import zipfile\n",
    "\n",
    "url = \"https://drive.google.com/uc?id=1wxmiUdqMciuTOs0ouKEISl8-iTVXdOWn\"\n",
    "\n",
    "gdown.download(url)\n",
    "\n",
    "with zipfile.ZipFile(\"Aloe_images.zip\", \"r\") as zip_ref:\n",
    "    zip_ref.extractall(\"\")"
   ]
  },
  {
   "cell_type": "code",
   "execution_count": 1,
   "metadata": {},
   "outputs": [],
   "source": [
    "import cv2\n",
    "import numpy as np"
   ]
  },
  {
   "cell_type": "code",
   "execution_count": 2,
   "metadata": {},
   "outputs": [],
   "source": [
    "def l1_distance(x, y):\n",
    "    return abs(x - y)\n",
    "\n",
    "def l2_distance(x, y):\n",
    "    return (x - y) ** 2"
   ]
  },
  {
   "cell_type": "code",
   "execution_count": 3,
   "metadata": {},
   "outputs": [],
   "source": [
    "def window_based_matching_l1(l_img, r_img, dis_range, kernel_size = 5, save_result = True):\n",
    "\n",
    "    lef = cv2.imread(l_img, 0)\n",
    "    rig = cv2.imread(r_img, 0)\n",
    "\n",
    "    left = lef.astype(np.float32)\n",
    "    right = rig.astype(np.float32)\n",
    "\n",
    "    height, width = left.shape[:2]\n",
    "\n",
    "    depth = np.zeros((height, width), np.uint8)\n",
    "\n",
    "    kernel_half = int((kernel_size - 1) / 2)\n",
    "    scale = 3\n",
    "    max_val = 255 * 9\n",
    "\n",
    "    for y in range(kernel_half, height - kernel_half):\n",
    "        for x in range(kernel_half, width - kernel_half):\n",
    "            \n",
    "            disparity = 0\n",
    "            cost_min = 65534\n",
    "\n",
    "            for j in range(dis_range):\n",
    "                total = 0\n",
    "                value = 0\n",
    "\n",
    "                for v in range(-kernel_half, kernel_half + 1):\n",
    "                    for u in range(-kernel_half, kernel_half + 1):\n",
    "                        value = max_val\n",
    "                        if (x + u - j) >= 0:\n",
    "                            value = l1_distance(int(left[y + v, x + u]), int(right[y + v, x + u - j]))\n",
    "                        total += value\n",
    "\n",
    "                if total < cost_min:\n",
    "                    cost_min = total\n",
    "                    disparity = j\n",
    "\n",
    "            depth[y, x] = disparity * scale\n",
    "\n",
    "    if save_result == True:\n",
    "        cv2.imwrite(f'window_based_l1.png', depth)\n",
    "        cv2.imwrite(f'window_based_l1_color.png', cv2.applyColorMap(depth, cv2.COLORMAP_JET))\n",
    "\n",
    "    print('Done.')\n",
    "\n",
    "    return depth"
   ]
  },
  {
   "cell_type": "code",
   "execution_count": 4,
   "metadata": {},
   "outputs": [],
   "source": [
    "def window_based_matching_l2(l_img, r_img, dis_range, kernel_size = 5, save_result = True):\n",
    "\n",
    "    lef = cv2.imread(l_img, 0)\n",
    "    rig = cv2.imread(r_img, 0)\n",
    "\n",
    "    left = lef.astype(np.float32)\n",
    "    right = rig.astype(np.float32)\n",
    "\n",
    "    height, width = left.shape[:2]\n",
    "\n",
    "    depth = np.zeros((height, width), np.uint8)\n",
    "\n",
    "    kernel_half = int((kernel_size - 1) / 2)\n",
    "    scale = 3\n",
    "    max_val = 255 ** 2\n",
    "\n",
    "    for y in range(kernel_half, height - kernel_half):\n",
    "        for x in range(kernel_half, width - kernel_half):\n",
    "            \n",
    "            disparity = 0\n",
    "            cost_min = 65534\n",
    "\n",
    "            for j in range(dis_range):\n",
    "                total = 0\n",
    "                value = 0\n",
    "\n",
    "                for v in range(-kernel_half, kernel_half + 1):\n",
    "                    for u in range(-kernel_half, kernel_half + 1):\n",
    "                        value = max_val\n",
    "                        if x + u - j >= 0:\n",
    "                            value = l2_distance(int(left[y + v, x + u]), \n",
    "                                int(right[y + v, (x + u) - j]))\n",
    "                        total += value\n",
    "\n",
    "                if total < cost_min:\n",
    "                    cost_min = total\n",
    "                    disparity = j\n",
    "\n",
    "            depth[y, x] = disparity * scale\n",
    "\n",
    "    if save_result == True:\n",
    "        cv2.imwrite(f'window_based_l2.png', depth)\n",
    "        cv2.imwrite(f'window_based_l2_color.png', cv2.applyColorMap(depth, cv2.COLORMAP_JET))\n",
    "\n",
    "    print('Done.')\n",
    "\n",
    "    return depth"
   ]
  },
  {
   "cell_type": "code",
   "execution_count": 23,
   "metadata": {},
   "outputs": [
    {
     "name": "stdout",
     "output_type": "stream",
     "text": [
      "Done.\n"
     ]
    }
   ],
   "source": [
    "l_img_path = \"Aloe/Aloe_left_1.png\"\n",
    "r_img_path = \"Aloe/Aloe_right_1.png\"\n",
    "dis_range = 64\n",
    "kernel_size = 3\n",
    "\n",
    "window_based_result = window_based_matching_l1(\n",
    "    l_img_path, \n",
    "    r_img_path, \n",
    "    dis_range, \n",
    "    kernel_size=kernel_size, \n",
    "    save_result=True\n",
    ")"
   ]
  },
  {
   "cell_type": "code",
   "execution_count": 24,
   "metadata": {},
   "outputs": [
    {
     "name": "stdout",
     "output_type": "stream",
     "text": [
      "Done.\n"
     ]
    }
   ],
   "source": [
    "window_based_matching_l2 = window_based_matching_l2(\n",
    "    l_img_path, \n",
    "    r_img_path, \n",
    "    dis_range, \n",
    "    kernel_size=kernel_size, \n",
    "    save_result=True\n",
    ")"
   ]
  },
  {
   "cell_type": "code",
   "execution_count": null,
   "metadata": {},
   "outputs": [],
   "source": [
    "def cosine_similarity(x, y):\n",
    "    numerator = np.dot(x, y)\n",
    "    denominator = np.linalg.norm(x) * np.linalg.norm(y)\n",
    "\n",
    "    return numerator / denominator"
   ]
  },
  {
   "cell_type": "code",
   "execution_count": null,
   "metadata": {},
   "outputs": [],
   "source": [
    "def window_based_matching_cosine(l_img, r_img, dis_range, kernel_size = 5, save_result = True):\n",
    "\n",
    "    lef = cv2.imread(l_img, 0)\n",
    "    rig = cv2.imread(r_img, 0)\n",
    "\n",
    "    left = lef.astype(np.float32)\n",
    "    right = rig.astype(np.float32)\n",
    "\n",
    "    height, width = left.shape[:2]\n",
    "\n",
    "    depth = np.zeros((height, width), np.uint8)\n",
    "\n",
    "    kernel_half = int((kernel_size - 1) / 2)\n",
    "    scale = 3\n",
    "\n",
    "    for y in range(kernel_half, height - kernel_half):\n",
    "        for x in range(kernel_half, width - kernel_half):\n",
    "            \n",
    "            disparity = 0\n",
    "            cost_optimal = -1\n",
    "\n",
    "            for j in range(dis_range):\n",
    "                d = x - j\n",
    "                cost = -1\n",
    "\n",
    "                if (d - kernel_half) > 0\n",
    "\n",
    "                if total > cost_max:\n",
    "                    cost_optimal = cpst\n",
    "                    disparity = j\n",
    "\n",
    "            depth[y, x] = disparity * scale\n",
    "\n",
    "    if save_result == True:\n",
    "        cv2.imwrite(f'window_based_cosine.png', depth)\n",
    "        cv2.imwrite(f'window_based_cosine_color.png', cv2.applyColorMap(depth, cv2.COLORMAP_JET))\n",
    "\n",
    "    print('Done.')\n",
    "\n",
    "    return depth"
   ]
  }
 ],
 "metadata": {
  "kernelspec": {
   "display_name": "ts",
   "language": "python",
   "name": "python3"
  },
  "language_info": {
   "codemirror_mode": {
    "name": "ipython",
    "version": 3
   },
   "file_extension": ".py",
   "mimetype": "text/x-python",
   "name": "python",
   "nbconvert_exporter": "python",
   "pygments_lexer": "ipython3",
   "version": "3.9.18"
  }
 },
 "nbformat": 4,
 "nbformat_minor": 2
}
